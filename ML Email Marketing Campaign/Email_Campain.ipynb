{
 "cells": [
  {
   "cell_type": "code",
   "execution_count": 1,
   "metadata": {},
   "outputs": [],
   "source": [
    "import numpy as np\n",
    "import pandas as pd\n",
    "import seaborn as sns\n",
    "import matplotlib.pyplot as plt\n",
    "\n",
    "sns.set_style(\"darkgrid\")"
   ]
  },
  {
   "cell_type": "code",
   "execution_count": 2,
   "metadata": {},
   "outputs": [
    {
     "data": {
      "text/html": [
       "<div>\n",
       "<style scoped>\n",
       "    .dataframe tbody tr th:only-of-type {\n",
       "        vertical-align: middle;\n",
       "    }\n",
       "\n",
       "    .dataframe tbody tr th {\n",
       "        vertical-align: top;\n",
       "    }\n",
       "\n",
       "    .dataframe thead th {\n",
       "        text-align: right;\n",
       "    }\n",
       "</style>\n",
       "<table border=\"1\" class=\"dataframe\">\n",
       "  <thead>\n",
       "    <tr style=\"text-align: right;\">\n",
       "      <th></th>\n",
       "      <th>email_id</th>\n",
       "      <th>email_text</th>\n",
       "      <th>email_version</th>\n",
       "      <th>hour</th>\n",
       "      <th>weekday</th>\n",
       "      <th>user_country</th>\n",
       "      <th>user_past_purchases</th>\n",
       "    </tr>\n",
       "  </thead>\n",
       "  <tbody>\n",
       "    <tr>\n",
       "      <th>0</th>\n",
       "      <td>85120</td>\n",
       "      <td>short_email</td>\n",
       "      <td>personalized</td>\n",
       "      <td>2</td>\n",
       "      <td>Sunday</td>\n",
       "      <td>US</td>\n",
       "      <td>5</td>\n",
       "    </tr>\n",
       "    <tr>\n",
       "      <th>1</th>\n",
       "      <td>966622</td>\n",
       "      <td>long_email</td>\n",
       "      <td>personalized</td>\n",
       "      <td>12</td>\n",
       "      <td>Sunday</td>\n",
       "      <td>UK</td>\n",
       "      <td>2</td>\n",
       "    </tr>\n",
       "    <tr>\n",
       "      <th>2</th>\n",
       "      <td>777221</td>\n",
       "      <td>long_email</td>\n",
       "      <td>personalized</td>\n",
       "      <td>11</td>\n",
       "      <td>Wednesday</td>\n",
       "      <td>US</td>\n",
       "      <td>2</td>\n",
       "    </tr>\n",
       "    <tr>\n",
       "      <th>3</th>\n",
       "      <td>493711</td>\n",
       "      <td>short_email</td>\n",
       "      <td>generic</td>\n",
       "      <td>6</td>\n",
       "      <td>Monday</td>\n",
       "      <td>UK</td>\n",
       "      <td>1</td>\n",
       "    </tr>\n",
       "    <tr>\n",
       "      <th>4</th>\n",
       "      <td>106887</td>\n",
       "      <td>long_email</td>\n",
       "      <td>generic</td>\n",
       "      <td>14</td>\n",
       "      <td>Monday</td>\n",
       "      <td>US</td>\n",
       "      <td>6</td>\n",
       "    </tr>\n",
       "  </tbody>\n",
       "</table>\n",
       "</div>"
      ],
      "text/plain": [
       "   email_id   email_text email_version  hour    weekday user_country  \\\n",
       "0     85120  short_email  personalized     2     Sunday           US   \n",
       "1    966622   long_email  personalized    12     Sunday           UK   \n",
       "2    777221   long_email  personalized    11  Wednesday           US   \n",
       "3    493711  short_email       generic     6     Monday           UK   \n",
       "4    106887   long_email       generic    14     Monday           US   \n",
       "\n",
       "   user_past_purchases  \n",
       "0                    5  \n",
       "1                    2  \n",
       "2                    2  \n",
       "3                    1  \n",
       "4                    6  "
      ]
     },
     "metadata": {},
     "output_type": "display_data"
    },
    {
     "data": {
      "text/html": [
       "<div>\n",
       "<style scoped>\n",
       "    .dataframe tbody tr th:only-of-type {\n",
       "        vertical-align: middle;\n",
       "    }\n",
       "\n",
       "    .dataframe tbody tr th {\n",
       "        vertical-align: top;\n",
       "    }\n",
       "\n",
       "    .dataframe thead th {\n",
       "        text-align: right;\n",
       "    }\n",
       "</style>\n",
       "<table border=\"1\" class=\"dataframe\">\n",
       "  <thead>\n",
       "    <tr style=\"text-align: right;\">\n",
       "      <th></th>\n",
       "      <th>email_id</th>\n",
       "    </tr>\n",
       "  </thead>\n",
       "  <tbody>\n",
       "    <tr>\n",
       "      <th>0</th>\n",
       "      <td>284534</td>\n",
       "    </tr>\n",
       "    <tr>\n",
       "      <th>1</th>\n",
       "      <td>609056</td>\n",
       "    </tr>\n",
       "    <tr>\n",
       "      <th>2</th>\n",
       "      <td>220820</td>\n",
       "    </tr>\n",
       "    <tr>\n",
       "      <th>3</th>\n",
       "      <td>905936</td>\n",
       "    </tr>\n",
       "    <tr>\n",
       "      <th>4</th>\n",
       "      <td>164034</td>\n",
       "    </tr>\n",
       "  </tbody>\n",
       "</table>\n",
       "</div>"
      ],
      "text/plain": [
       "   email_id\n",
       "0    284534\n",
       "1    609056\n",
       "2    220820\n",
       "3    905936\n",
       "4    164034"
      ]
     },
     "metadata": {},
     "output_type": "display_data"
    },
    {
     "data": {
      "text/html": [
       "<div>\n",
       "<style scoped>\n",
       "    .dataframe tbody tr th:only-of-type {\n",
       "        vertical-align: middle;\n",
       "    }\n",
       "\n",
       "    .dataframe tbody tr th {\n",
       "        vertical-align: top;\n",
       "    }\n",
       "\n",
       "    .dataframe thead th {\n",
       "        text-align: right;\n",
       "    }\n",
       "</style>\n",
       "<table border=\"1\" class=\"dataframe\">\n",
       "  <thead>\n",
       "    <tr style=\"text-align: right;\">\n",
       "      <th></th>\n",
       "      <th>email_id</th>\n",
       "    </tr>\n",
       "  </thead>\n",
       "  <tbody>\n",
       "    <tr>\n",
       "      <th>0</th>\n",
       "      <td>609056</td>\n",
       "    </tr>\n",
       "    <tr>\n",
       "      <th>1</th>\n",
       "      <td>870980</td>\n",
       "    </tr>\n",
       "    <tr>\n",
       "      <th>2</th>\n",
       "      <td>935124</td>\n",
       "    </tr>\n",
       "    <tr>\n",
       "      <th>3</th>\n",
       "      <td>158501</td>\n",
       "    </tr>\n",
       "    <tr>\n",
       "      <th>4</th>\n",
       "      <td>177561</td>\n",
       "    </tr>\n",
       "  </tbody>\n",
       "</table>\n",
       "</div>"
      ],
      "text/plain": [
       "   email_id\n",
       "0    609056\n",
       "1    870980\n",
       "2    935124\n",
       "3    158501\n",
       "4    177561"
      ]
     },
     "metadata": {},
     "output_type": "display_data"
    }
   ],
   "source": [
    "email = pd.read_csv(\"email_table.csv\")\n",
    "opened = pd.read_csv(\"email_opened_table.csv\")\n",
    "click = pd.read_csv(\"link_clicked_table.csv\")\n",
    "display(email.head())\n",
    "display(opened.head())\n",
    "display(click.head())"
   ]
  },
  {
   "cell_type": "code",
   "execution_count": 3,
   "metadata": {},
   "outputs": [
    {
     "name": "stdout",
     "output_type": "stream",
     "text": [
      "<class 'pandas.core.frame.DataFrame'>\n",
      "RangeIndex: 100000 entries, 0 to 99999\n",
      "Data columns (total 7 columns):\n",
      " #   Column               Non-Null Count   Dtype \n",
      "---  ------               --------------   ----- \n",
      " 0   email_id             100000 non-null  int64 \n",
      " 1   email_text           100000 non-null  object\n",
      " 2   email_version        100000 non-null  object\n",
      " 3   hour                 100000 non-null  int64 \n",
      " 4   weekday              100000 non-null  object\n",
      " 5   user_country         100000 non-null  object\n",
      " 6   user_past_purchases  100000 non-null  int64 \n",
      "dtypes: int64(3), object(4)\n",
      "memory usage: 5.3+ MB\n"
     ]
    }
   ],
   "source": [
    "email.info()"
   ]
  },
  {
   "cell_type": "code",
   "execution_count": 4,
   "metadata": {},
   "outputs": [
    {
     "name": "stdout",
     "output_type": "stream",
     "text": [
      "<class 'pandas.core.frame.DataFrame'>\n",
      "RangeIndex: 10345 entries, 0 to 10344\n",
      "Data columns (total 1 columns):\n",
      " #   Column    Non-Null Count  Dtype\n",
      "---  ------    --------------  -----\n",
      " 0   email_id  10345 non-null  int64\n",
      "dtypes: int64(1)\n",
      "memory usage: 80.9 KB\n"
     ]
    }
   ],
   "source": [
    "opened.info()"
   ]
  },
  {
   "cell_type": "code",
   "execution_count": 5,
   "metadata": {},
   "outputs": [
    {
     "name": "stdout",
     "output_type": "stream",
     "text": [
      "<class 'pandas.core.frame.DataFrame'>\n",
      "RangeIndex: 2119 entries, 0 to 2118\n",
      "Data columns (total 1 columns):\n",
      " #   Column    Non-Null Count  Dtype\n",
      "---  ------    --------------  -----\n",
      " 0   email_id  2119 non-null   int64\n",
      "dtypes: int64(1)\n",
      "memory usage: 16.7 KB\n"
     ]
    }
   ],
   "source": [
    "click.info()"
   ]
  },
  {
   "cell_type": "code",
   "execution_count": 6,
   "metadata": {},
   "outputs": [
    {
     "name": "stdout",
     "output_type": "stream",
     "text": [
      "open_unique: email_id    True\n",
      "dtype: bool\n",
      "click_unique: email_id    True\n",
      "dtype: bool\n"
     ]
    }
   ],
   "source": [
    "print('open_unique:', opened.nunique() == len(opened))\n",
    "print('click_unique:', click.nunique() == len(click))"
   ]
  },
  {
   "cell_type": "code",
   "execution_count": 7,
   "metadata": {},
   "outputs": [],
   "source": [
    "opened['open'] = 1\n",
    "click['click'] = 1"
   ]
  },
  {
   "cell_type": "code",
   "execution_count": 8,
   "metadata": {},
   "outputs": [
    {
     "data": {
      "text/html": [
       "<div>\n",
       "<style scoped>\n",
       "    .dataframe tbody tr th:only-of-type {\n",
       "        vertical-align: middle;\n",
       "    }\n",
       "\n",
       "    .dataframe tbody tr th {\n",
       "        vertical-align: top;\n",
       "    }\n",
       "\n",
       "    .dataframe thead th {\n",
       "        text-align: right;\n",
       "    }\n",
       "</style>\n",
       "<table border=\"1\" class=\"dataframe\">\n",
       "  <thead>\n",
       "    <tr style=\"text-align: right;\">\n",
       "      <th></th>\n",
       "      <th>email_id</th>\n",
       "      <th>email_text</th>\n",
       "      <th>email_version</th>\n",
       "      <th>hour</th>\n",
       "      <th>weekday</th>\n",
       "      <th>user_country</th>\n",
       "      <th>user_past_purchases</th>\n",
       "      <th>open</th>\n",
       "      <th>click</th>\n",
       "    </tr>\n",
       "  </thead>\n",
       "  <tbody>\n",
       "    <tr>\n",
       "      <th>0</th>\n",
       "      <td>85120</td>\n",
       "      <td>short_email</td>\n",
       "      <td>personalized</td>\n",
       "      <td>2</td>\n",
       "      <td>Sunday</td>\n",
       "      <td>US</td>\n",
       "      <td>5</td>\n",
       "      <td>0.0</td>\n",
       "      <td>0.0</td>\n",
       "    </tr>\n",
       "    <tr>\n",
       "      <th>1</th>\n",
       "      <td>966622</td>\n",
       "      <td>long_email</td>\n",
       "      <td>personalized</td>\n",
       "      <td>12</td>\n",
       "      <td>Sunday</td>\n",
       "      <td>UK</td>\n",
       "      <td>2</td>\n",
       "      <td>1.0</td>\n",
       "      <td>1.0</td>\n",
       "    </tr>\n",
       "    <tr>\n",
       "      <th>2</th>\n",
       "      <td>777221</td>\n",
       "      <td>long_email</td>\n",
       "      <td>personalized</td>\n",
       "      <td>11</td>\n",
       "      <td>Wednesday</td>\n",
       "      <td>US</td>\n",
       "      <td>2</td>\n",
       "      <td>0.0</td>\n",
       "      <td>0.0</td>\n",
       "    </tr>\n",
       "    <tr>\n",
       "      <th>3</th>\n",
       "      <td>493711</td>\n",
       "      <td>short_email</td>\n",
       "      <td>generic</td>\n",
       "      <td>6</td>\n",
       "      <td>Monday</td>\n",
       "      <td>UK</td>\n",
       "      <td>1</td>\n",
       "      <td>0.0</td>\n",
       "      <td>0.0</td>\n",
       "    </tr>\n",
       "    <tr>\n",
       "      <th>4</th>\n",
       "      <td>106887</td>\n",
       "      <td>long_email</td>\n",
       "      <td>generic</td>\n",
       "      <td>14</td>\n",
       "      <td>Monday</td>\n",
       "      <td>US</td>\n",
       "      <td>6</td>\n",
       "      <td>0.0</td>\n",
       "      <td>0.0</td>\n",
       "    </tr>\n",
       "  </tbody>\n",
       "</table>\n",
       "</div>"
      ],
      "text/plain": [
       "   email_id   email_text email_version  hour    weekday user_country  \\\n",
       "0     85120  short_email  personalized     2     Sunday           US   \n",
       "1    966622   long_email  personalized    12     Sunday           UK   \n",
       "2    777221   long_email  personalized    11  Wednesday           US   \n",
       "3    493711  short_email       generic     6     Monday           UK   \n",
       "4    106887   long_email       generic    14     Monday           US   \n",
       "\n",
       "   user_past_purchases  open  click  \n",
       "0                    5   0.0    0.0  \n",
       "1                    2   1.0    1.0  \n",
       "2                    2   0.0    0.0  \n",
       "3                    1   0.0    0.0  \n",
       "4                    6   0.0    0.0  "
      ]
     },
     "execution_count": 8,
     "metadata": {},
     "output_type": "execute_result"
    }
   ],
   "source": [
    "df = pd.merge(email, opened, how='left', on='email_id').fillna(0)\n",
    "df = df.merge(click, how='left', on='email_id').fillna(0)\n",
    "df.head()"
   ]
  },
  {
   "cell_type": "markdown",
   "metadata": {},
   "source": [
    "### What percentage of users opened the email and what percentage clicked on the link within the email?"
   ]
  },
  {
   "cell_type": "code",
   "execution_count": 9,
   "metadata": {},
   "outputs": [
    {
     "name": "stdout",
     "output_type": "stream",
     "text": [
      "10.345% of users opened the email.\n",
      "2.119% of users clicked on the linked within the email.\n"
     ]
    }
   ],
   "source": [
    "print(\"{}% of users opened the email.\".format(df['open'].sum()/len(df)*100))\n",
    "print(\"{}% of users clicked on the linked within the email.\".format(df['click'].sum()/len(df)*100))\n",
    "\n",
    "# a headup: The data is very imbalanced in terms of click. Might need to deal with this when running model"
   ]
  },
  {
   "cell_type": "markdown",
   "metadata": {},
   "source": [
    "### The VP of marketing thinks that it is stupid to send emails to a random subset and in a random way. Based on all the information you have about the emails that were sent, can you build a model to optimize in future email campaigns to maximize the probability of users clicking on the link inside the email?"
   ]
  },
  {
   "cell_type": "markdown",
   "metadata": {},
   "source": [
    "**There'd be two steps:**\n",
    "1. increace the percentage of users who opened the email\n",
    "2. increase the percentage of clicking on the linked for those who opened the email\n",
    "\n",
    "*clearly, those who never opened the email would never have a chance on clicking the link*\n"
   ]
  },
  {
   "cell_type": "code",
   "execution_count": 10,
   "metadata": {},
   "outputs": [],
   "source": [
    "# Since Email_id is unique, set them as index of the dataframe\n",
    "df.set_index('email_id', inplace=True)"
   ]
  },
  {
   "cell_type": "markdown",
   "metadata": {},
   "source": [
    "- According to the instruction, the measurement is click-through rate, which is:\n",
    "    \n",
    "    \\# click / \\# open email"
   ]
  },
  {
   "cell_type": "code",
   "execution_count": 11,
   "metadata": {},
   "outputs": [
    {
     "data": {
      "text/html": [
       "<div>\n",
       "<style scoped>\n",
       "    .dataframe tbody tr th:only-of-type {\n",
       "        vertical-align: middle;\n",
       "    }\n",
       "\n",
       "    .dataframe tbody tr th {\n",
       "        vertical-align: top;\n",
       "    }\n",
       "\n",
       "    .dataframe thead th {\n",
       "        text-align: right;\n",
       "    }\n",
       "</style>\n",
       "<table border=\"1\" class=\"dataframe\">\n",
       "  <thead>\n",
       "    <tr style=\"text-align: right;\">\n",
       "      <th></th>\n",
       "      <th>email_text</th>\n",
       "      <th>email_version</th>\n",
       "      <th>hour</th>\n",
       "      <th>weekday</th>\n",
       "      <th>user_country</th>\n",
       "      <th>user_past_purchases</th>\n",
       "      <th>open</th>\n",
       "      <th>click</th>\n",
       "    </tr>\n",
       "    <tr>\n",
       "      <th>email_id</th>\n",
       "      <th></th>\n",
       "      <th></th>\n",
       "      <th></th>\n",
       "      <th></th>\n",
       "      <th></th>\n",
       "      <th></th>\n",
       "      <th></th>\n",
       "      <th></th>\n",
       "    </tr>\n",
       "  </thead>\n",
       "  <tbody>\n",
       "    <tr>\n",
       "      <th>85120</th>\n",
       "      <td>short_email</td>\n",
       "      <td>personalized</td>\n",
       "      <td>2</td>\n",
       "      <td>Sunday</td>\n",
       "      <td>US</td>\n",
       "      <td>5</td>\n",
       "      <td>0.0</td>\n",
       "      <td>0.0</td>\n",
       "    </tr>\n",
       "    <tr>\n",
       "      <th>966622</th>\n",
       "      <td>long_email</td>\n",
       "      <td>personalized</td>\n",
       "      <td>12</td>\n",
       "      <td>Sunday</td>\n",
       "      <td>UK</td>\n",
       "      <td>2</td>\n",
       "      <td>1.0</td>\n",
       "      <td>1.0</td>\n",
       "    </tr>\n",
       "    <tr>\n",
       "      <th>777221</th>\n",
       "      <td>long_email</td>\n",
       "      <td>personalized</td>\n",
       "      <td>11</td>\n",
       "      <td>Wednesday</td>\n",
       "      <td>US</td>\n",
       "      <td>2</td>\n",
       "      <td>0.0</td>\n",
       "      <td>0.0</td>\n",
       "    </tr>\n",
       "    <tr>\n",
       "      <th>493711</th>\n",
       "      <td>short_email</td>\n",
       "      <td>generic</td>\n",
       "      <td>6</td>\n",
       "      <td>Monday</td>\n",
       "      <td>UK</td>\n",
       "      <td>1</td>\n",
       "      <td>0.0</td>\n",
       "      <td>0.0</td>\n",
       "    </tr>\n",
       "    <tr>\n",
       "      <th>106887</th>\n",
       "      <td>long_email</td>\n",
       "      <td>generic</td>\n",
       "      <td>14</td>\n",
       "      <td>Monday</td>\n",
       "      <td>US</td>\n",
       "      <td>6</td>\n",
       "      <td>0.0</td>\n",
       "      <td>0.0</td>\n",
       "    </tr>\n",
       "  </tbody>\n",
       "</table>\n",
       "</div>"
      ],
      "text/plain": [
       "           email_text email_version  hour    weekday user_country  \\\n",
       "email_id                                                            \n",
       "85120     short_email  personalized     2     Sunday           US   \n",
       "966622     long_email  personalized    12     Sunday           UK   \n",
       "777221     long_email  personalized    11  Wednesday           US   \n",
       "493711    short_email       generic     6     Monday           UK   \n",
       "106887     long_email       generic    14     Monday           US   \n",
       "\n",
       "          user_past_purchases  open  click  \n",
       "email_id                                    \n",
       "85120                       5   0.0    0.0  \n",
       "966622                      2   1.0    1.0  \n",
       "777221                      2   0.0    0.0  \n",
       "493711                      1   0.0    0.0  \n",
       "106887                      6   0.0    0.0  "
      ]
     },
     "execution_count": 11,
     "metadata": {},
     "output_type": "execute_result"
    }
   ],
   "source": [
    "df.head()"
   ]
  },
  {
   "cell_type": "markdown",
   "metadata": {},
   "source": [
    "1. Email_Text\n",
    "\n",
    "need to be encoded "
   ]
  },
  {
   "cell_type": "code",
   "execution_count": 12,
   "metadata": {},
   "outputs": [
    {
     "data": {
      "text/plain": [
       "long_email     0.50276\n",
       "short_email    0.49724\n",
       "Name: email_text, dtype: float64"
      ]
     },
     "execution_count": 12,
     "metadata": {},
     "output_type": "execute_result"
    }
   ],
   "source": [
    "df['email_text'].value_counts(normalize=True)"
   ]
  },
  {
   "cell_type": "code",
   "execution_count": 13,
   "metadata": {},
   "outputs": [
    {
     "data": {
      "text/plain": [
       "email_text\n",
       "long_email     0.018538\n",
       "short_email    0.023872\n",
       "Name: click, dtype: float64"
      ]
     },
     "execution_count": 13,
     "metadata": {},
     "output_type": "execute_result"
    }
   ],
   "source": [
    "df.groupby(\"email_text\").mean()['click']\n",
    "\n",
    "# short emails have a higher click-through rate"
   ]
  },
  {
   "cell_type": "code",
   "execution_count": 14,
   "metadata": {},
   "outputs": [
    {
     "data": {
      "image/png": "[encoded data removed]",
      "text/plain": [
       "<Figure size 1152x576 with 2 Axes>"
      ]
     },
     "metadata": {},
     "output_type": "display_data"
    }
   ],
   "source": [
    "fig, ax = plt.subplots(nrows=1, ncols=2, figsize = (16,8))\n",
    "\n",
    "sns.countplot(x = 'email_text', hue = 'click', data = df, ax=ax[0])\n",
    "sns.barplot(x = 'email_text', y='click', data= df, ax=ax[1])\n",
    "\n",
    "ax[0].set_xlabel(\"\")\n",
    "ax[0].set_title(\"Count Plot of Email Length\", fontsize=16)\n",
    "\n",
    "ax[1].set_xlabel(\"\")\n",
    "ax[1].set_title(\"Click Through Rate V.S. Email Length\", fontsize=16)\n",
    "\n",
    "plt.show()"
   ]
  },
  {
   "cell_type": "markdown",
   "metadata": {},
   "source": [
    "2. Email Version\n",
    "\n",
    "Personalized emails have a higher click-through rate"
   ]
  },
  {
   "cell_type": "code",
   "execution_count": 15,
   "metadata": {},
   "outputs": [
    {
     "data": {
      "text/plain": [
       "generic         0.50209\n",
       "personalized    0.49791\n",
       "Name: email_version, dtype: float64"
      ]
     },
     "execution_count": 15,
     "metadata": {},
     "output_type": "execute_result"
    }
   ],
   "source": [
    "df['email_version'].value_counts(normalize=True)"
   ]
  },
  {
   "cell_type": "code",
   "execution_count": 16,
   "metadata": {},
   "outputs": [
    {
     "data": {
      "text/plain": [
       "email_version\n",
       "generic         0.015137\n",
       "personalized    0.027294\n",
       "Name: click, dtype: float64"
      ]
     },
     "execution_count": 16,
     "metadata": {},
     "output_type": "execute_result"
    }
   ],
   "source": [
    "df.groupby(\"email_version\").mean()['click']"
   ]
  },
  {
   "cell_type": "code",
   "execution_count": 17,
   "metadata": {},
   "outputs": [
    {
     "data": {
      "image/png": "[encoded data removed]",
      "text/plain": [
       "<Figure size 1152x576 with 2 Axes>"
      ]
     },
     "metadata": {},
     "output_type": "display_data"
    }
   ],
   "source": [
    "fig, ax = plt.subplots(nrows=1, ncols=2, figsize = (16,8))\n",
    "\n",
    "sns.countplot(x = 'email_version', hue = 'click', data = df, ax=ax[0], palette=\"Set2\")\n",
    "sns.barplot(x = 'email_version', y='click', data= df, ax=ax[1], palette=\"Set2\")\n",
    "\n",
    "ax[0].set_xlabel(\"\")\n",
    "ax[0].set_title(\"Count Plot of Email Version\", fontsize=16)\n",
    "\n",
    "ax[1].set_xlabel(\"\")\n",
    "ax[1].set_title(\"Click Through Rate V.S. Email Version\", fontsize=16)\n",
    "\n",
    "plt.show()"
   ]
  },
  {
   "cell_type": "markdown",
   "metadata": {},
   "source": [
    "3. Sent Hour"
   ]
  },
  {
   "cell_type": "code",
   "execution_count": 18,
   "metadata": {},
   "outputs": [
    {
     "data": {
      "image/png": "[encoded data removed]",
      "text/plain": [
       "<Figure size 1152x576 with 2 Axes>"
      ]
     },
     "metadata": {},
     "output_type": "display_data"
    }
   ],
   "source": [
    "fig, ax = plt.subplots(nrows=1, ncols=2, figsize = (16,8))\n",
    "\n",
    "sns.countplot(x = 'hour', hue = 'click', data = df, ax=ax[0], palette=\"Set2\")\n",
    "sns.barplot(x = 'hour', y='click', data= df, ax=ax[1], palette=\"Set2\")\n",
    "\n",
    "ax[0].set_xlabel(\"\")\n",
    "ax[0].set_title(\"Count Plot of Email hour\", fontsize=16)\n",
    "\n",
    "ax[1].set_xlabel(\"\")\n",
    "ax[1].set_title(\"Click Through Rate V.S. Hour\", fontsize=16)\n",
    "\n",
    "plt.show()"
   ]
  },
  {
   "cell_type": "code",
   "execution_count": 19,
   "metadata": {},
   "outputs": [
    {
     "data": {
      "text/plain": [
       "1     2703\n",
       "2     3676\n",
       "3     4610\n",
       "4     5622\n",
       "5     6551\n",
       "6     7465\n",
       "7     8204\n",
       "8     8398\n",
       "9     8529\n",
       "10    8180\n",
       "11    7483\n",
       "12    6508\n",
       "13    5581\n",
       "14    4580\n",
       "15    3493\n",
       "16    2759\n",
       "17    1893\n",
       "18    1421\n",
       "19     905\n",
       "20     656\n",
       "21     365\n",
       "22     204\n",
       "23     145\n",
       "24      69\n",
       "Name: hour, dtype: int64"
      ]
     },
     "execution_count": 19,
     "metadata": {},
     "output_type": "execute_result"
    }
   ],
   "source": [
    "df['hour'].value_counts().sort_index()"
   ]
  },
  {
   "cell_type": "code",
   "execution_count": 20,
   "metadata": {},
   "outputs": [],
   "source": [
    "# Better set hours into different bins\n",
    "df['hour_bins'] = pd.qcut(df['hour'],8,duplicates='drop').astype(str)"
   ]
  },
  {
   "cell_type": "code",
   "execution_count": 21,
   "metadata": {},
   "outputs": [
    {
     "data": {
      "image/png": "[encoded data removed]",
      "text/plain": [
       "<Figure size 864x576 with 1 Axes>"
      ]
     },
     "metadata": {},
     "output_type": "display_data"
    }
   ],
   "source": [
    "plt.figure(figsize=(12,8))\n",
    "\n",
    "_ = sns.barplot(x='hour_bins', y='click', \n",
    "            order=df.groupby('hour_bins').mean()['click'].sort_values(ascending=False).index,\n",
    "            data=df, \n",
    "            palette=\"Set2\")\n",
    "\n",
    "_.set_xlabel(\"\")\n",
    "_.set_title(\"Click Through Rate V.S. Hour\", fontsize=16)\n",
    "\n",
    "plt.show()"
   ]
  },
  {
   "cell_type": "markdown",
   "metadata": {},
   "source": [
    "- Emails sent out in the morning have higher click through rate compared with other period of the day"
   ]
  },
  {
   "cell_type": "markdown",
   "metadata": {},
   "source": [
    "4. Weekday Pattern"
   ]
  },
  {
   "cell_type": "code",
   "execution_count": 22,
   "metadata": {},
   "outputs": [
    {
     "data": {
      "text/html": [
       "<div>\n",
       "<style scoped>\n",
       "    .dataframe tbody tr th:only-of-type {\n",
       "        vertical-align: middle;\n",
       "    }\n",
       "\n",
       "    .dataframe tbody tr th {\n",
       "        vertical-align: top;\n",
       "    }\n",
       "\n",
       "    .dataframe thead th {\n",
       "        text-align: right;\n",
       "    }\n",
       "</style>\n",
       "<table border=\"1\" class=\"dataframe\">\n",
       "  <thead>\n",
       "    <tr style=\"text-align: right;\">\n",
       "      <th></th>\n",
       "      <th>sum</th>\n",
       "      <th>mean</th>\n",
       "      <th>count</th>\n",
       "    </tr>\n",
       "    <tr>\n",
       "      <th>weekday</th>\n",
       "      <th></th>\n",
       "      <th></th>\n",
       "      <th></th>\n",
       "    </tr>\n",
       "  </thead>\n",
       "  <tbody>\n",
       "    <tr>\n",
       "      <th>Friday</th>\n",
       "      <td>199.0</td>\n",
       "      <td>0.014037</td>\n",
       "      <td>14177</td>\n",
       "    </tr>\n",
       "    <tr>\n",
       "      <th>Monday</th>\n",
       "      <td>329.0</td>\n",
       "      <td>0.022906</td>\n",
       "      <td>14363</td>\n",
       "    </tr>\n",
       "    <tr>\n",
       "      <th>Saturday</th>\n",
       "      <td>260.0</td>\n",
       "      <td>0.017846</td>\n",
       "      <td>14569</td>\n",
       "    </tr>\n",
       "    <tr>\n",
       "      <th>Sunday</th>\n",
       "      <td>241.0</td>\n",
       "      <td>0.016751</td>\n",
       "      <td>14387</td>\n",
       "    </tr>\n",
       "    <tr>\n",
       "      <th>Thursday</th>\n",
       "      <td>349.0</td>\n",
       "      <td>0.024445</td>\n",
       "      <td>14277</td>\n",
       "    </tr>\n",
       "    <tr>\n",
       "      <th>Tuesday</th>\n",
       "      <td>352.0</td>\n",
       "      <td>0.024889</td>\n",
       "      <td>14143</td>\n",
       "    </tr>\n",
       "    <tr>\n",
       "      <th>Wednesday</th>\n",
       "      <td>389.0</td>\n",
       "      <td>0.027620</td>\n",
       "      <td>14084</td>\n",
       "    </tr>\n",
       "  </tbody>\n",
       "</table>\n",
       "</div>"
      ],
      "text/plain": [
       "             sum      mean  count\n",
       "weekday                          \n",
       "Friday     199.0  0.014037  14177\n",
       "Monday     329.0  0.022906  14363\n",
       "Saturday   260.0  0.017846  14569\n",
       "Sunday     241.0  0.016751  14387\n",
       "Thursday   349.0  0.024445  14277\n",
       "Tuesday    352.0  0.024889  14143\n",
       "Wednesday  389.0  0.027620  14084"
      ]
     },
     "execution_count": 22,
     "metadata": {},
     "output_type": "execute_result"
    }
   ],
   "source": [
    "df.groupby('weekday')['click'].agg(['sum','mean','count'])\n",
    "\n",
    "# the emails sent out in different day of week is quite even, yet the click through rate show a diversed pattern.\n",
    "# Wednesday has the highest click through rate yet Friday has the lowest"
   ]
  },
  {
   "cell_type": "code",
   "execution_count": 23,
   "metadata": {},
   "outputs": [
    {
     "data": {
      "image/png": "[encoded data removed]",
      "text/plain": [
       "<Figure size 1152x576 with 2 Axes>"
      ]
     },
     "metadata": {},
     "output_type": "display_data"
    }
   ],
   "source": [
    "fig, ax = plt.subplots(nrows=1, ncols=2, figsize=(16,8))\n",
    "\n",
    "sns.countplot(x='weekday',  \n",
    "            order=df.weekday.value_counts().sort_values(ascending=False).index,\n",
    "            data=df, ax=ax[0],color='lightblue')\n",
    "\n",
    "sns.barplot(x='weekday', y='click', \n",
    "            order=df.groupby('weekday').mean()['click'].sort_values(ascending=False).index,\n",
    "            data=df, ax=ax[1],\n",
    "            palette=\"Set2\")\n",
    "\n",
    "ax[0].set_xlabel(\"\")\n",
    "ax[0].set_ylabel(\"\")\n",
    "ax[0].set_title(\"Total Number of Emails Sent V.S. Day of Week\", fontsize=16)\n",
    "\n",
    "ax[1].set_xlabel(\"\")\n",
    "ax[1].set_ylabel(\"Click Through Rate\")\n",
    "ax[1].set_title(\"Click Through Rate V.S. Day of Week\", fontsize=16)\n",
    "\n",
    "plt.show()"
   ]
  },
  {
   "cell_type": "markdown",
   "metadata": {},
   "source": [
    "5. User Country\n",
    "\n",
    "\n",
    "\n",
    "- highest total number of emails sent in US, followed by UK, FR&ES --> US being the major market\n",
    "- Similar click through rate among US & UK, latter being slightly higher\n",
    "\n",
    "- imbalanced distribution, consider group ES&FR as EU\n"
   ]
  },
  {
   "cell_type": "code",
   "execution_count": 24,
   "metadata": {},
   "outputs": [
    {
     "data": {
      "text/html": [
       "<div>\n",
       "<style scoped>\n",
       "    .dataframe tbody tr th:only-of-type {\n",
       "        vertical-align: middle;\n",
       "    }\n",
       "\n",
       "    .dataframe tbody tr th {\n",
       "        vertical-align: top;\n",
       "    }\n",
       "\n",
       "    .dataframe thead th {\n",
       "        text-align: right;\n",
       "    }\n",
       "</style>\n",
       "<table border=\"1\" class=\"dataframe\">\n",
       "  <thead>\n",
       "    <tr style=\"text-align: right;\">\n",
       "      <th></th>\n",
       "      <th>mean</th>\n",
       "      <th>sum</th>\n",
       "      <th>count</th>\n",
       "    </tr>\n",
       "    <tr>\n",
       "      <th>user_country</th>\n",
       "      <th></th>\n",
       "      <th></th>\n",
       "      <th></th>\n",
       "    </tr>\n",
       "  </thead>\n",
       "  <tbody>\n",
       "    <tr>\n",
       "      <th>ES</th>\n",
       "      <td>0.008327</td>\n",
       "      <td>83.0</td>\n",
       "      <td>9967</td>\n",
       "    </tr>\n",
       "    <tr>\n",
       "      <th>FR</th>\n",
       "      <td>0.008004</td>\n",
       "      <td>80.0</td>\n",
       "      <td>9995</td>\n",
       "    </tr>\n",
       "    <tr>\n",
       "      <th>UK</th>\n",
       "      <td>0.024675</td>\n",
       "      <td>492.0</td>\n",
       "      <td>19939</td>\n",
       "    </tr>\n",
       "    <tr>\n",
       "      <th>US</th>\n",
       "      <td>0.024360</td>\n",
       "      <td>1464.0</td>\n",
       "      <td>60099</td>\n",
       "    </tr>\n",
       "  </tbody>\n",
       "</table>\n",
       "</div>"
      ],
      "text/plain": [
       "                  mean     sum  count\n",
       "user_country                         \n",
       "ES            0.008327    83.0   9967\n",
       "FR            0.008004    80.0   9995\n",
       "UK            0.024675   492.0  19939\n",
       "US            0.024360  1464.0  60099"
      ]
     },
     "execution_count": 24,
     "metadata": {},
     "output_type": "execute_result"
    }
   ],
   "source": [
    "df.groupby('user_country')['click'].agg(['mean','sum','count'])"
   ]
  },
  {
   "cell_type": "code",
   "execution_count": 25,
   "metadata": {},
   "outputs": [
    {
     "data": {
      "image/png": "[encoded data removed]",
      "text/plain": [
       "<Figure size 1152x576 with 2 Axes>"
      ]
     },
     "metadata": {},
     "output_type": "display_data"
    }
   ],
   "source": [
    "fig, ax = plt.subplots(nrows=1, ncols=2, figsize=(16,8))\n",
    "\n",
    "sns.countplot(x='user_country',  \n",
    "            order=df.user_country.value_counts().sort_values(ascending=False).index,\n",
    "            data=df, ax=ax[0],color='lightblue')\n",
    "\n",
    "sns.barplot(x='user_country', y='click', \n",
    "            order=df.groupby('user_country').mean()['click'].sort_values(ascending=False).index,\n",
    "            data=df, ax=ax[1],\n",
    "            palette=\"Set2\")\n",
    "\n",
    "ax[0].set_xlabel(\"\")\n",
    "ax[0].set_ylabel(\"\")\n",
    "ax[0].set_title(\"Total Number of Emails Sent V.S. User Country\", fontsize=16)\n",
    "\n",
    "ax[1].set_xlabel(\"\")\n",
    "ax[1].set_ylabel(\"Click Through Rate\")\n",
    "ax[1].set_title(\"Click Through Rate V.S. User Country\", fontsize=16)\n",
    "\n",
    "plt.show()"
   ]
  },
  {
   "cell_type": "code",
   "execution_count": 26,
   "metadata": {},
   "outputs": [],
   "source": [
    "# put FR & ES together as EU\n",
    "df['location'] = np.where((df['user_country'] == 'FR') | (df['user_country'] == 'ES'), 'EU', df['user_country'])"
   ]
  },
  {
   "cell_type": "code",
   "execution_count": 27,
   "metadata": {},
   "outputs": [
    {
     "data": {
      "text/plain": [
       "US    60099\n",
       "EU    19962\n",
       "UK    19939\n",
       "Name: location, dtype: int64"
      ]
     },
     "execution_count": 27,
     "metadata": {},
     "output_type": "execute_result"
    }
   ],
   "source": [
    "df['location'].value_counts()"
   ]
  },
  {
   "cell_type": "code",
   "execution_count": 28,
   "metadata": {},
   "outputs": [
    {
     "data": {
      "image/png": "[encoded data removed]",
      "text/plain": [
       "<Figure size 1152x576 with 2 Axes>"
      ]
     },
     "metadata": {},
     "output_type": "display_data"
    }
   ],
   "source": [
    "fig, ax = plt.subplots(nrows=1, ncols=2, figsize=(16,8))\n",
    "\n",
    "sns.countplot(x='location',  \n",
    "            order=df.location.value_counts().sort_values(ascending=False).index,\n",
    "            data=df, ax=ax[0],color='lightblue')\n",
    "\n",
    "sns.barplot(x='location', y='click', \n",
    "            order=df.groupby('location').mean()['click'].sort_values(ascending=False).index,\n",
    "            data=df, ax=ax[1],\n",
    "            palette=\"Set2\")\n",
    "\n",
    "ax[0].set_xlabel(\"\")\n",
    "ax[0].set_ylabel(\"\")\n",
    "ax[0].set_title(\"Total Number of Emails Sent V.S. User Location\", fontsize=16)\n",
    "\n",
    "ax[1].set_xlabel(\"\")\n",
    "ax[1].set_ylabel(\"Click Through Rate\")\n",
    "ax[1].set_title(\"Click Through Rate V.S. User Location\", fontsize=16)\n",
    "\n",
    "plt.show()"
   ]
  },
  {
   "cell_type": "markdown",
   "metadata": {},
   "source": [
    "6. User Past Purchases"
   ]
  },
  {
   "cell_type": "code",
   "execution_count": 29,
   "metadata": {},
   "outputs": [
    {
     "data": {
      "text/plain": [
       "0     13877\n",
       "1     13751\n",
       "2     13036\n",
       "3     12077\n",
       "4     10743\n",
       "5      9042\n",
       "6      7518\n",
       "7      6051\n",
       "8      4393\n",
       "9      3296\n",
       "10     2363\n",
       "11     1553\n",
       "12      944\n",
       "13      578\n",
       "14      362\n",
       "15      188\n",
       "16      102\n",
       "17       60\n",
       "18       35\n",
       "19       15\n",
       "20       11\n",
       "21        4\n",
       "22        1\n",
       "Name: user_past_purchases, dtype: int64"
      ]
     },
     "execution_count": 29,
     "metadata": {},
     "output_type": "execute_result"
    }
   ],
   "source": [
    "df['user_past_purchases'].value_counts()"
   ]
  },
  {
   "cell_type": "code",
   "execution_count": 30,
   "metadata": {},
   "outputs": [
    {
     "data": {
      "image/png": "[encoded data removed]",
      "text/plain": [
       "<Figure size 864x576 with 1 Axes>"
      ]
     },
     "metadata": {},
     "output_type": "display_data"
    }
   ],
   "source": [
    "plt.figure(figsize=(12,8))\n",
    "\n",
    "plt.hist(df['user_past_purchases'], bins=23)\n",
    "\n",
    "plt.show()\n",
    "\n",
    "# highly skewed, better take bins of the data"
   ]
  },
  {
   "cell_type": "code",
   "execution_count": 31,
   "metadata": {},
   "outputs": [],
   "source": [
    "df['past_purchase'] = pd.qcut(df['user_past_purchases'],8,duplicates='drop').astype(str)"
   ]
  },
  {
   "cell_type": "code",
   "execution_count": 32,
   "metadata": {},
   "outputs": [
    {
     "data": {
      "image/png": "[encoded data removed]",
      "text/plain": [
       "<Figure size 1152x576 with 2 Axes>"
      ]
     },
     "metadata": {},
     "output_type": "display_data"
    }
   ],
   "source": [
    "fig, ax = plt.subplots(nrows=1, ncols=2, figsize = (16,8))\n",
    "\n",
    "sns.countplot(x = 'past_purchase', hue = 'click', \n",
    "              order = df['past_purchase'].value_counts().index,\n",
    "              data = df, ax=ax[0], palette=\"Set2\")\n",
    "sns.barplot(x = 'past_purchase', y='click', \n",
    "            order = df.groupby('past_purchase').mean()['click'].index,\n",
    "            data= df, ax=ax[1], palette=\"Set2\")\n",
    "\n",
    "ax[0].set_xlabel(\"\")\n",
    "ax[0].set_title(\"Count Plot of Email hour\", fontsize=16)\n",
    "\n",
    "ax[1].set_xlabel(\"\")\n",
    "ax[1].set_title(\"Click Through Rate V.S. Hour\", fontsize=16)\n",
    "\n",
    "plt.show()"
   ]
  },
  {
   "cell_type": "markdown",
   "metadata": {},
   "source": [
    "- the majority of emails were sent to relatively new users \n",
    "- or maybe we can say that the number of loyal users are relatively low \n",
    "- loyal customers tend to have higher click through rate"
   ]
  },
  {
   "cell_type": "markdown",
   "metadata": {},
   "source": [
    "## Machine Learning Model: Logistic Regression\n",
    "1. Oversampling\n",
    "2. H2ORandomForest"
   ]
  },
  {
   "cell_type": "code",
   "execution_count": 69,
   "metadata": {},
   "outputs": [
    {
     "name": "stdout",
     "output_type": "stream",
     "text": [
      "Checking whether there is an H2O instance running at http://localhost:54321 . connected.\n",
      "Warning: Your H2O cluster version is too old (7 months and 21 days)! Please download and install the latest version from http://h2o.ai/download/\n"
     ]
    },
    {
     "data": {
      "text/html": [
       "<div style=\"overflow:auto\"><table style=\"width:50%\"><tr><td>H2O_cluster_uptime:</td>\n",
       "<td>14 days 11 hours 32 mins</td></tr>\n",
       "<tr><td>H2O_cluster_timezone:</td>\n",
       "<td>America/New_York</td></tr>\n",
       "<tr><td>H2O_data_parsing_timezone:</td>\n",
       "<td>UTC</td></tr>\n",
       "<tr><td>H2O_cluster_version:</td>\n",
       "<td>3.30.0.4</td></tr>\n",
       "<tr><td>H2O_cluster_version_age:</td>\n",
       "<td>7 months and 21 days !!!</td></tr>\n",
       "<tr><td>H2O_cluster_name:</td>\n",
       "<td>H2O_from_python_chuichuider_fc5muy</td></tr>\n",
       "<tr><td>H2O_cluster_total_nodes:</td>\n",
       "<td>1</td></tr>\n",
       "<tr><td>H2O_cluster_free_memory:</td>\n",
       "<td>1.526 Gb</td></tr>\n",
       "<tr><td>H2O_cluster_total_cores:</td>\n",
       "<td>4</td></tr>\n",
       "<tr><td>H2O_cluster_allowed_cores:</td>\n",
       "<td>4</td></tr>\n",
       "<tr><td>H2O_cluster_status:</td>\n",
       "<td>locked, healthy</td></tr>\n",
       "<tr><td>H2O_connection_url:</td>\n",
       "<td>http://localhost:54321</td></tr>\n",
       "<tr><td>H2O_connection_proxy:</td>\n",
       "<td>{\"http\": null, \"https\": null}</td></tr>\n",
       "<tr><td>H2O_internal_security:</td>\n",
       "<td>False</td></tr>\n",
       "<tr><td>H2O_API_Extensions:</td>\n",
       "<td>Amazon S3, XGBoost, Algos, AutoML, Core V3, TargetEncoder, Core V4</td></tr>\n",
       "<tr><td>Python_version:</td>\n",
       "<td>3.8.2 final</td></tr></table></div>"
      ],
      "text/plain": [
       "--------------------------  ------------------------------------------------------------------\n",
       "H2O_cluster_uptime:         14 days 11 hours 32 mins\n",
       "H2O_cluster_timezone:       America/New_York\n",
       "H2O_data_parsing_timezone:  UTC\n",
       "H2O_cluster_version:        3.30.0.4\n",
       "H2O_cluster_version_age:    7 months and 21 days !!!\n",
       "H2O_cluster_name:           H2O_from_python_chuichuider_fc5muy\n",
       "H2O_cluster_total_nodes:    1\n",
       "H2O_cluster_free_memory:    1.526 Gb\n",
       "H2O_cluster_total_cores:    4\n",
       "H2O_cluster_allowed_cores:  4\n",
       "H2O_cluster_status:         locked, healthy\n",
       "H2O_connection_url:         http://localhost:54321\n",
       "H2O_connection_proxy:       {\"http\": null, \"https\": null}\n",
       "H2O_internal_security:      False\n",
       "H2O_API_Extensions:         Amazon S3, XGBoost, Algos, AutoML, Core V3, TargetEncoder, Core V4\n",
       "Python_version:             3.8.2 final\n",
       "--------------------------  ------------------------------------------------------------------"
      ]
     },
     "metadata": {},
     "output_type": "display_data"
    }
   ],
   "source": [
    "import h2o\n",
    "h2o.init()"
   ]
  },
  {
   "cell_type": "code",
   "execution_count": 71,
   "metadata": {},
   "outputs": [],
   "source": [
    "from sklearn.model_selection import train_test_split\n",
    "\n",
    "train,test = train_test_split(df,test_size=0.4,random_state=42, stratify=df['click'])"
   ]
  },
  {
   "cell_type": "code",
   "execution_count": 103,
   "metadata": {},
   "outputs": [
    {
     "data": {
      "text/plain": [
       "Index(['email_text', 'email_version', 'hour', 'weekday', 'user_country',\n",
       "       'user_past_purchases', 'open', 'click', 'hour_bins', 'location',\n",
       "       'past_purchase'],\n",
       "      dtype='object')"
      ]
     },
     "execution_count": 103,
     "metadata": {},
     "output_type": "execute_result"
    }
   ],
   "source": [
    "df.columns"
   ]
  },
  {
   "cell_type": "code",
   "execution_count": 104,
   "metadata": {},
   "outputs": [
    {
     "data": {
      "text/plain": [
       "0.0    0.978817\n",
       "1.0    0.021183\n",
       "Name: click, dtype: float64"
      ]
     },
     "execution_count": 104,
     "metadata": {},
     "output_type": "execute_result"
    }
   ],
   "source": [
    "# predictors = ['email_text','email_version','hour_bins','weekday','location','past_purchase']\n",
    "predictors = ['email_text', 'email_version', 'hour', 'weekday', 'user_country','user_past_purchases']\n",
    "target = 'click'\n",
    "\n",
    "X = train[predictors]\n",
    "y = pd.DataFrame(train[target])\n",
    "\n",
    "y.iloc[:,0].value_counts(normalize=True)"
   ]
  },
  {
   "cell_type": "code",
   "execution_count": 105,
   "metadata": {},
   "outputs": [
    {
     "name": "stdout",
     "output_type": "stream",
     "text": [
      "Parse progress: |█████████████████████████████████████████████████████████| 100%\n"
     ]
    }
   ],
   "source": [
    "import matplotlib.pyplot as plt\n",
    "from imblearn.over_sampling import (RandomOverSampler, \n",
    "                                    SMOTE, \n",
    "                                    ADASYN)\n",
    "\n",
    "sampler = RandomOverSampler(sampling_strategy=0.5,random_state=42)\n",
    "X_rs, y_rs = sampler.fit_sample(X, y)\n",
    "\n",
    "df_over = X_rs.merge(y_rs, left_index=True, right_index=True)\n",
    "\n",
    "df_hex = h2o.H2OFrame(df_over)"
   ]
  },
  {
   "cell_type": "code",
   "execution_count": 106,
   "metadata": {},
   "outputs": [
    {
     "name": "stdout",
     "output_type": "stream",
     "text": [
      "drf Model Build progress: |███████████████████████████████████████████████| 100%\n"
     ]
    }
   ],
   "source": [
    "from h2o.estimators.random_forest import H2ORandomForestEstimator\n",
    "RF_modl = H2ORandomForestEstimator(\n",
    "        model_id = 'RF_modl',\n",
    "        ntrees = 1000,\n",
    "        nfolds=5,\n",
    "        min_rows=100,\n",
    "        seed=1234, categorical_encoding='auto')\n",
    "RF_modl.train(predictors,target,training_frame=df_hex)"
   ]
  },
  {
   "cell_type": "code",
   "execution_count": 107,
   "metadata": {},
   "outputs": [
    {
     "data": {
      "image/png": "[encoded data removed]",
      "text/plain": [
       "<Figure size 1200x1200 with 1 Axes>"
      ]
     },
     "metadata": {},
     "output_type": "display_data"
    }
   ],
   "source": [
    "def VarImp(model_name,m_name):\n",
    "    \n",
    "    from sklearn.metrics import roc_curve,auc\n",
    "    from sklearn.metrics import average_precision_score\n",
    "    from sklearn.metrics import precision_recall_curve\n",
    "    import matplotlib.pyplot as plt\n",
    "    \n",
    "    # plot the variable importance\n",
    "    plt.rcdefaults()\n",
    "    variables = model_name._model_json['output']['variable_importances']['variable']\n",
    "    y_pos = np.arange(len(variables))\n",
    "    fig, ax = plt.subplots(figsize = (12,12))\n",
    "    scaled_importance = model_name._model_json['output']['variable_importances']['scaled_importance']\n",
    "    ax.barh(y_pos,scaled_importance,align='center',color='green')\n",
    "    ax.set_yticks(y_pos)\n",
    "    ax.set_yticklabels(variables)\n",
    "    ax.invert_yaxis()\n",
    "    ax.set_xlabel('Scaled Importance')\n",
    "    ax.set_title(m_name + ' Variable Importance')\n",
    "    plt.show()\n",
    "    \n",
    "VarImp(RF_modl, 'RF_modl')"
   ]
  },
  {
   "cell_type": "code",
   "execution_count": 108,
   "metadata": {},
   "outputs": [
    {
     "name": "stdout",
     "output_type": "stream",
     "text": [
      "Parse progress: |█████████████████████████████████████████████████████████| 100%\n",
      "drf prediction progress: |████████████████████████████████████████████████| 100%\n"
     ]
    },
    {
     "data": {
      "text/html": [
       "<div>\n",
       "<style scoped>\n",
       "    .dataframe tbody tr th:only-of-type {\n",
       "        vertical-align: middle;\n",
       "    }\n",
       "\n",
       "    .dataframe tbody tr th {\n",
       "        vertical-align: top;\n",
       "    }\n",
       "\n",
       "    .dataframe thead th {\n",
       "        text-align: right;\n",
       "    }\n",
       "</style>\n",
       "<table border=\"1\" class=\"dataframe\">\n",
       "  <thead>\n",
       "    <tr style=\"text-align: right;\">\n",
       "      <th></th>\n",
       "      <th>actual</th>\n",
       "      <th>pred</th>\n",
       "    </tr>\n",
       "  </thead>\n",
       "  <tbody>\n",
       "    <tr>\n",
       "      <th>0</th>\n",
       "      <td>0</td>\n",
       "      <td>0.498610</td>\n",
       "    </tr>\n",
       "    <tr>\n",
       "      <th>1</th>\n",
       "      <td>0</td>\n",
       "      <td>0.408255</td>\n",
       "    </tr>\n",
       "    <tr>\n",
       "      <th>2</th>\n",
       "      <td>0</td>\n",
       "      <td>0.402867</td>\n",
       "    </tr>\n",
       "    <tr>\n",
       "      <th>3</th>\n",
       "      <td>0</td>\n",
       "      <td>0.170686</td>\n",
       "    </tr>\n",
       "    <tr>\n",
       "      <th>4</th>\n",
       "      <td>0</td>\n",
       "      <td>0.312483</td>\n",
       "    </tr>\n",
       "  </tbody>\n",
       "</table>\n",
       "</div>"
      ],
      "text/plain": [
       "   actual      pred\n",
       "0       0  0.498610\n",
       "1       0  0.408255\n",
       "2       0  0.402867\n",
       "3       0  0.170686\n",
       "4       0  0.312483"
      ]
     },
     "execution_count": 108,
     "metadata": {},
     "output_type": "execute_result"
    }
   ],
   "source": [
    "def actual_predict(model,test_hex,target):\n",
    "    y_pred = model.predict(test_hex).as_data_frame()\n",
    "    y_actual = test_hex[target].as_data_frame()\n",
    "    df_actual_predict = pd.concat([y_actual,y_pred],axis=1)\n",
    "    df_actual_predict.columns = ['actual','pred']\n",
    "    return(df_actual_predict)\n",
    "\n",
    "test_hex = h2o.H2OFrame(test)\n",
    "\n",
    "RF_actual_predict = actual_predict(RF_modl,test_hex,target)\n",
    "RF_actual_predict.head()"
   ]
  },
  {
   "cell_type": "code",
   "execution_count": 109,
   "metadata": {},
   "outputs": [
    {
     "data": {
      "text/plain": [
       "0.7398122327782961"
      ]
     },
     "execution_count": 109,
     "metadata": {},
     "output_type": "execute_result"
    }
   ],
   "source": [
    "from sklearn.metrics import roc_curve,roc_auc_score, auc \n",
    "from sklearn.metrics import average_precision_score, precision_recall_curve\n",
    "\n",
    "dd = RF_actual_predict.copy()\n",
    "RF_roc_auc_value = roc_auc_score(dd['actual'],dd['pred'])\n",
    "RF_roc_auc_value"
   ]
  },
  {
   "cell_type": "code",
   "execution_count": 110,
   "metadata": {},
   "outputs": [
    {
     "data": {
      "image/png": "[encoded data removed]",
      "text/plain": [
       "<Figure size 1000x400 with 2 Axes>"
      ]
     },
     "metadata": {},
     "output_type": "display_data"
    }
   ],
   "source": [
    "def ROC_PR(df_actual_predict):\n",
    "    \n",
    "    # ROC\n",
    "    from sklearn.metrics import roc_curve,roc_auc_score, auc \n",
    "    from sklearn.metrics import average_precision_score, precision_recall_curve\n",
    "\n",
    "    roc_auc_value = roc_auc_score(df_actual_predict['actual'],df_actual_predict['pred'])\n",
    "    fpr, tpr, _ = roc_curve(df_actual_predict['actual'],df_actual_predict['pred'])\n",
    "    roc_auc = auc(fpr,tpr)\n",
    "    \n",
    "    import matplotlib.pyplot as plt\n",
    "    lw=2\n",
    "    plt.figure(figsize=(10,4))\n",
    "    plt.subplot(1,2,1)\n",
    "    plt.plot(fpr,tpr, color='darkorange',lw=lw,label='AUC = %0.4f)' %roc_auc_value)\n",
    "    plt.plot([0,1],[0,1], color='navy',lw=lw,linestyle='--')\n",
    "    plt.xlim([0,1])\n",
    "    plt.ylim([0,1])\n",
    "    plt.xlabel('False Positive Rate')\n",
    "    plt.ylabel('True Positive Rate')\n",
    "    plt.title('ROC Curve: AUC={0:0.4f}'.format(roc_auc_value))\n",
    "    plt.legend(loc='lower right')\n",
    "    \n",
    "    # Precision-Recall\n",
    "    plt.subplot(1,2,2)\n",
    "    average_precision = average_precision_score(df_actual_predict['actual'],df_actual_predict['pred'])\n",
    "    precision, recall, _ = precision_recall_curve(df_actual_predict['actual'],df_actual_predict['pred'])\n",
    "    plt.step(recall, precision, color='b', alpha=0.2, where='post')\n",
    "    plt.fill_between(recall,precision,step='post',alpha=0.2,color='b')\n",
    "    plt.xlabel('Recall')\n",
    "    plt.ylabel('Precision')\n",
    "    plt.ylim([0.0,1.05])\n",
    "    plt.ylim([0.0,1.05])\n",
    "    plt.title('Precision-Recall curve: PR={0:0.4f}'.format(average_precision))\n",
    "    \n",
    "ROC_PR(RF_actual_predict)"
   ]
  },
  {
   "cell_type": "code",
   "execution_count": 97,
   "metadata": {},
   "outputs": [
    {
     "name": "stdout",
     "output_type": "stream",
     "text": [
      "Parse progress: |█████████████████████████████████████████████████████████| 100%\n"
     ]
    }
   ],
   "source": [
    "from imblearn.datasets import make_imbalance\n",
    "\n",
    "X_rs, y_rs = make_imbalance(X, y, sampling_strategy={1:1271,0:12710},\n",
    "                      random_state=0)\n",
    "\n",
    "df_under = X_rs.merge(y_rs, left_index=True, right_index=True)\n",
    "df_hex = h2o.H2OFrame(df_under)"
   ]
  },
  {
   "cell_type": "code",
   "execution_count": 99,
   "metadata": {},
   "outputs": [
    {
     "name": "stdout",
     "output_type": "stream",
     "text": [
      "drf Model Build progress: |███████████████████████████████████████████████| 100%\n"
     ]
    }
   ],
   "source": [
    "RF_modl = H2ORandomForestEstimator(\n",
    "        model_id = 'RF_modl',\n",
    "        ntrees = 100,\n",
    "        nfolds=5,\n",
    "        min_rows=100,\n",
    "        seed=1234, categorical_encoding='auto')\n",
    "RF_modl.train(predictors,target,training_frame=df_hex)"
   ]
  },
  {
   "cell_type": "code",
   "execution_count": 100,
   "metadata": {},
   "outputs": [
    {
     "name": "stdout",
     "output_type": "stream",
     "text": [
      "drf prediction progress: |████████████████████████████████████████████████| 100%\n"
     ]
    },
    {
     "data": {
      "text/html": [
       "<div>\n",
       "<style scoped>\n",
       "    .dataframe tbody tr th:only-of-type {\n",
       "        vertical-align: middle;\n",
       "    }\n",
       "\n",
       "    .dataframe tbody tr th {\n",
       "        vertical-align: top;\n",
       "    }\n",
       "\n",
       "    .dataframe thead th {\n",
       "        text-align: right;\n",
       "    }\n",
       "</style>\n",
       "<table border=\"1\" class=\"dataframe\">\n",
       "  <thead>\n",
       "    <tr style=\"text-align: right;\">\n",
       "      <th></th>\n",
       "      <th>actual</th>\n",
       "      <th>pred</th>\n",
       "    </tr>\n",
       "  </thead>\n",
       "  <tbody>\n",
       "    <tr>\n",
       "      <th>0</th>\n",
       "      <td>0</td>\n",
       "      <td>0.169539</td>\n",
       "    </tr>\n",
       "    <tr>\n",
       "      <th>1</th>\n",
       "      <td>0</td>\n",
       "      <td>0.145335</td>\n",
       "    </tr>\n",
       "    <tr>\n",
       "      <th>2</th>\n",
       "      <td>0</td>\n",
       "      <td>0.079584</td>\n",
       "    </tr>\n",
       "    <tr>\n",
       "      <th>3</th>\n",
       "      <td>0</td>\n",
       "      <td>0.050599</td>\n",
       "    </tr>\n",
       "    <tr>\n",
       "      <th>4</th>\n",
       "      <td>0</td>\n",
       "      <td>0.111668</td>\n",
       "    </tr>\n",
       "  </tbody>\n",
       "</table>\n",
       "</div>"
      ],
      "text/plain": [
       "   actual      pred\n",
       "0       0  0.169539\n",
       "1       0  0.145335\n",
       "2       0  0.079584\n",
       "3       0  0.050599\n",
       "4       0  0.111668"
      ]
     },
     "execution_count": 100,
     "metadata": {},
     "output_type": "execute_result"
    }
   ],
   "source": [
    "RF_actual_predict = actual_predict(RF_modl,test_hex,target)\n",
    "RF_actual_predict.head()"
   ]
  },
  {
   "cell_type": "code",
   "execution_count": 101,
   "metadata": {},
   "outputs": [
    {
     "data": {
      "text/plain": [
       "0.7365665071207717"
      ]
     },
     "execution_count": 101,
     "metadata": {},
     "output_type": "execute_result"
    }
   ],
   "source": [
    "from sklearn.metrics import roc_curve,roc_auc_score, auc \n",
    "from sklearn.metrics import average_precision_score, precision_recall_curve\n",
    "\n",
    "dd = RF_actual_predict.copy()\n",
    "RF_roc_auc_value = roc_auc_score(dd['actual'],dd['pred'])\n",
    "RF_roc_auc_value"
   ]
  },
  {
   "cell_type": "code",
   "execution_count": 102,
   "metadata": {},
   "outputs": [
    {
     "data": {
      "image/png": "[encoded data removed]",
      "text/plain": [
       "<Figure size 1000x400 with 2 Axes>"
      ]
     },
     "metadata": {},
     "output_type": "display_data"
    }
   ],
   "source": [
    "ROC_PR(RF_actual_predict)"
   ]
  },
  {
   "cell_type": "markdown",
   "metadata": {},
   "source": [
    "### GLM: Easier Explaining"
   ]
  },
  {
   "cell_type": "code",
   "execution_count": 119,
   "metadata": {},
   "outputs": [
    {
     "name": "stdout",
     "output_type": "stream",
     "text": [
      "Parse progress: |█████████████████████████████████████████████████████████| 100%\n",
      "Parse progress: |█████████████████████████████████████████████████████████| 100%\n"
     ]
    }
   ],
   "source": [
    "from h2o.estimators.glm import H2OGeneralizedLinearEstimator\n",
    "\n",
    "# train_smpl = train.sample(frac=0.1, random_state=1)\n",
    "# test_smpl = test.sample(frac=0.1, random_state=1)\n",
    "train_hex = h2o.H2OFrame(train)\n",
    "test_hex = h2o.H2OFrame(test)"
   ]
  },
  {
   "cell_type": "code",
   "execution_count": 120,
   "metadata": {},
   "outputs": [
    {
     "name": "stdout",
     "output_type": "stream",
     "text": [
      "glm Model Build progress: |███████████████████████████████████████████████| 100%\n"
     ]
    }
   ],
   "source": [
    "glm_v1 = H2OGeneralizedLinearEstimator(family= \"binomial\", lambda_ = 0.05) #, compute_p_values = True)\n",
    "glm_v1.train(predictors,target,training_frame=train_hex)"
   ]
  },
  {
   "cell_type": "code",
   "execution_count": 124,
   "metadata": {},
   "outputs": [
    {
     "name": "stdout",
     "output_type": "stream",
     "text": [
      "<class 'pandas.core.frame.DataFrame'>\n",
      "Int64Index: 60000 entries, 187763 to 262926\n",
      "Data columns (total 11 columns):\n",
      " #   Column               Non-Null Count  Dtype  \n",
      "---  ------               --------------  -----  \n",
      " 0   email_text           60000 non-null  object \n",
      " 1   email_version        60000 non-null  object \n",
      " 2   hour                 60000 non-null  int64  \n",
      " 3   weekday              60000 non-null  object \n",
      " 4   user_country         60000 non-null  object \n",
      " 5   user_past_purchases  60000 non-null  int64  \n",
      " 6   open                 60000 non-null  float64\n",
      " 7   click                60000 non-null  float64\n",
      " 8   hour_bins            60000 non-null  object \n",
      " 9   location             60000 non-null  object \n",
      " 10  past_purchase        60000 non-null  object \n",
      "dtypes: float64(2), int64(2), object(7)\n",
      "memory usage: 5.5+ MB\n",
      "<class 'pandas.core.frame.DataFrame'>\n",
      "Int64Index: 40000 entries, 114377 to 664990\n",
      "Data columns (total 11 columns):\n",
      " #   Column               Non-Null Count  Dtype  \n",
      "---  ------               --------------  -----  \n",
      " 0   email_text           40000 non-null  object \n",
      " 1   email_version        40000 non-null  object \n",
      " 2   hour                 40000 non-null  int64  \n",
      " 3   weekday              40000 non-null  object \n",
      " 4   user_country         40000 non-null  object \n",
      " 5   user_past_purchases  40000 non-null  int64  \n",
      " 6   open                 40000 non-null  float64\n",
      " 7   click                40000 non-null  float64\n",
      " 8   hour_bins            40000 non-null  object \n",
      " 9   location             40000 non-null  object \n",
      " 10  past_purchase        40000 non-null  object \n",
      "dtypes: float64(2), int64(2), object(7)\n",
      "memory usage: 3.7+ MB\n"
     ]
    }
   ],
   "source": [
    "train.info()\n",
    "test.info()"
   ]
  },
  {
   "cell_type": "code",
   "execution_count": 121,
   "metadata": {},
   "outputs": [
    {
     "name": "stdout",
     "output_type": "stream",
     "text": [
      "glm prediction progress: |████████████████████████████████████████████████| 100%\n"
     ]
    },
    {
     "data": {
      "text/html": [
       "<table>\n",
       "<thead>\n",
       "<tr><th style=\"text-align: right;\">  predict</th><th style=\"text-align: right;\">      p0</th><th style=\"text-align: right;\">       p1</th></tr>\n",
       "</thead>\n",
       "<tbody>\n",
       "<tr><td style=\"text-align: right;\">        1</td><td style=\"text-align: right;\">0.978817</td><td style=\"text-align: right;\">0.0211833</td></tr>\n",
       "<tr><td style=\"text-align: right;\">        1</td><td style=\"text-align: right;\">0.978817</td><td style=\"text-align: right;\">0.0211833</td></tr>\n",
       "<tr><td style=\"text-align: right;\">        1</td><td style=\"text-align: right;\">0.978817</td><td style=\"text-align: right;\">0.0211833</td></tr>\n",
       "<tr><td style=\"text-align: right;\">        1</td><td style=\"text-align: right;\">0.978817</td><td style=\"text-align: right;\">0.0211833</td></tr>\n",
       "<tr><td style=\"text-align: right;\">        1</td><td style=\"text-align: right;\">0.978817</td><td style=\"text-align: right;\">0.0211833</td></tr>\n",
       "<tr><td style=\"text-align: right;\">        1</td><td style=\"text-align: right;\">0.978817</td><td style=\"text-align: right;\">0.0211833</td></tr>\n",
       "<tr><td style=\"text-align: right;\">        1</td><td style=\"text-align: right;\">0.978817</td><td style=\"text-align: right;\">0.0211833</td></tr>\n",
       "<tr><td style=\"text-align: right;\">        1</td><td style=\"text-align: right;\">0.978817</td><td style=\"text-align: right;\">0.0211833</td></tr>\n",
       "<tr><td style=\"text-align: right;\">        1</td><td style=\"text-align: right;\">0.978817</td><td style=\"text-align: right;\">0.0211833</td></tr>\n",
       "<tr><td style=\"text-align: right;\">        1</td><td style=\"text-align: right;\">0.978817</td><td style=\"text-align: right;\">0.0211833</td></tr>\n",
       "</tbody>\n",
       "</table>"
      ]
     },
     "metadata": {},
     "output_type": "display_data"
    },
    {
     "data": {
      "text/plain": []
     },
     "execution_count": 121,
     "metadata": {},
     "output_type": "execute_result"
    }
   ],
   "source": [
    "glm_v1.predict(test_hex)"
   ]
  },
  {
   "cell_type": "code",
   "execution_count": 114,
   "metadata": {},
   "outputs": [
    {
     "name": "stdout",
     "output_type": "stream",
     "text": [
      "glm prediction progress: |████████████████████████████████████████████████| 100%\n"
     ]
    },
    {
     "data": {
      "text/html": [
       "<table>\n",
       "<thead>\n",
       "<tr><th style=\"text-align: right;\">       p1</th></tr>\n",
       "</thead>\n",
       "<tbody>\n",
       "<tr><td style=\"text-align: right;\">0.0216667</td></tr>\n",
       "<tr><td style=\"text-align: right;\">0.0216667</td></tr>\n",
       "<tr><td style=\"text-align: right;\">0.0216667</td></tr>\n",
       "<tr><td style=\"text-align: right;\">0.0216667</td></tr>\n",
       "<tr><td style=\"text-align: right;\">0.0216667</td></tr>\n",
       "<tr><td style=\"text-align: right;\">0.0216667</td></tr>\n",
       "<tr><td style=\"text-align: right;\">0.0216667</td></tr>\n",
       "<tr><td style=\"text-align: right;\">0.0216667</td></tr>\n",
       "<tr><td style=\"text-align: right;\">0.0216667</td></tr>\n",
       "<tr><td style=\"text-align: right;\">0.0216667</td></tr>\n",
       "</tbody>\n",
       "</table>"
      ]
     },
     "metadata": {},
     "output_type": "display_data"
    },
    {
     "data": {
      "text/plain": []
     },
     "execution_count": 114,
     "metadata": {},
     "output_type": "execute_result"
    }
   ],
   "source": [
    "glm_v1.predict(test_hex)['p1']"
   ]
  },
  {
   "cell_type": "code",
   "execution_count": 116,
   "metadata": {},
   "outputs": [
    {
     "name": "stdout",
     "output_type": "stream",
     "text": [
      "glm prediction progress: |████████████████████████████████████████████████| 100%\n"
     ]
    },
    {
     "data": {
      "text/html": [
       "<div>\n",
       "<style scoped>\n",
       "    .dataframe tbody tr th:only-of-type {\n",
       "        vertical-align: middle;\n",
       "    }\n",
       "\n",
       "    .dataframe tbody tr th {\n",
       "        vertical-align: top;\n",
       "    }\n",
       "\n",
       "    .dataframe thead th {\n",
       "        text-align: right;\n",
       "    }\n",
       "</style>\n",
       "<table border=\"1\" class=\"dataframe\">\n",
       "  <thead>\n",
       "    <tr style=\"text-align: right;\">\n",
       "      <th></th>\n",
       "      <th>click</th>\n",
       "      <th>p1</th>\n",
       "    </tr>\n",
       "  </thead>\n",
       "  <tbody>\n",
       "    <tr>\n",
       "      <th>0</th>\n",
       "      <td>0</td>\n",
       "      <td>0.021667</td>\n",
       "    </tr>\n",
       "    <tr>\n",
       "      <th>1</th>\n",
       "      <td>0</td>\n",
       "      <td>0.021667</td>\n",
       "    </tr>\n",
       "    <tr>\n",
       "      <th>2</th>\n",
       "      <td>0</td>\n",
       "      <td>0.021667</td>\n",
       "    </tr>\n",
       "    <tr>\n",
       "      <th>3</th>\n",
       "      <td>0</td>\n",
       "      <td>0.021667</td>\n",
       "    </tr>\n",
       "    <tr>\n",
       "      <th>4</th>\n",
       "      <td>0</td>\n",
       "      <td>0.021667</td>\n",
       "    </tr>\n",
       "  </tbody>\n",
       "</table>\n",
       "</div>"
      ],
      "text/plain": [
       "   click        p1\n",
       "0      0  0.021667\n",
       "1      0  0.021667\n",
       "2      0  0.021667\n",
       "3      0  0.021667\n",
       "4      0  0.021667"
      ]
     },
     "execution_count": 116,
     "metadata": {},
     "output_type": "execute_result"
    }
   ],
   "source": [
    "predictions = glm_v1.predict(test_hex)['p1']\n",
    "test_scores = test_hex['click'].cbind(predictions).as_data_frame()\n",
    "test_scores.head()"
   ]
  },
  {
   "cell_type": "code",
   "execution_count": 118,
   "metadata": {},
   "outputs": [
    {
     "name": "stdout",
     "output_type": "stream",
     "text": [
      "glm prediction progress: |████████████████████████████████████████████████| 100%\n",
      "\n",
      "   * ROC curve: The ROC curve plots the true positive rate vs. the false rositive sate\n",
      "\n",
      "\t  * The area under the curve (AUC): A value between 0.5 (random) and 1.0 (perfect), measuring the prediction accuracy\n",
      "\n",
      "   * Recall (R) = The number of true positives / (the number of true positives + the number of false negatives)\n",
      "\n"
     ]
    },
    {
     "data": {
      "image/png": "[encoded data removed]",
      "text/plain": [
       "<Figure size 1000x400 with 2 Axes>"
      ]
     },
     "metadata": {},
     "output_type": "display_data"
    }
   ],
   "source": [
    "def ROC_AUC(my_result,df,target):\n",
    "    from sklearn.metrics import roc_curve,auc\n",
    "    from sklearn.metrics import average_precision_score\n",
    "    from sklearn.metrics import precision_recall_curve\n",
    "    import matplotlib.pyplot as plt\n",
    "\n",
    "    # ROC\n",
    "    y_actual = df[target].as_data_frame()\n",
    "    y_pred = my_result.predict(df)['p1'].as_data_frame()\n",
    "    fpr = list()\n",
    "    tpr = list()\n",
    "    roc_auc = list()\n",
    "    fpr,tpr,_ = roc_curve(y_actual,y_pred)\n",
    "    roc_auc = auc(fpr,tpr)\n",
    "    \n",
    "    # Precision-Recall\n",
    "    average_precision = average_precision_score(y_actual,y_pred)\n",
    "\n",
    "    print('')\n",
    "    print('   * ROC curve: The ROC curve plots the true positive rate vs. the false rositive sate')\n",
    "    print('')\n",
    "    print('\t  * The area under the curve (AUC): A value between 0.5 (random) and 1.0 (perfect), measuring the prediction accuracy')\n",
    "    print('')\n",
    "    print('   * Recall (R) = The number of true positives / (the number of true positives + the number of false negatives)')\n",
    "    print('')\n",
    "    \n",
    "    # plotting\n",
    "    plt.figure(figsize=(10,4))\n",
    "\n",
    "    # ROC\n",
    "    plt.subplot(1,2,1)\n",
    "    plt.plot(fpr,tpr,color='darkorange',lw=2,label='ROC curve (aare=%0.2f)' % roc_auc)\n",
    "    plt.plot([0,1],[0,1],color='navy',lw=3,linestyle='--')\n",
    "    plt.xlim([0.0,1.0])\n",
    "    plt.ylim([0.0,1.05])\n",
    "    plt.xlabel('False Positive Rate')\n",
    "    plt.ylabel('True Positive Rate')\n",
    "    plt.title('Receiver operating characteristic: AUC={0:0.4f}'.format(roc_auc))\n",
    "    plt.legend(loc='lower right')\n",
    "\n",
    "    # Precision-Recall\n",
    "    plt.subplot(1,2,2)\n",
    "    precision,recall,_ = precision_recall_curve(y_actual,y_pred)\n",
    "    plt.step(recall,precision,color='b',alpha=0.2,where='post')\n",
    "    plt.fill_between(recall,precision,step='post',alpha=0.2,color='b')\n",
    "    plt.xlabel('Recall')\n",
    "    plt.ylabel('Precision')\n",
    "    plt.ylim([0.0,1.05])\n",
    "    plt.xlim([0.0,1.0])\n",
    "    plt.title('Precision-Recall curve: PR={0:0.4f}'.format(average_precision))\n",
    "    plt.show()\n",
    "    \n",
    "ROC_AUC(glm_v1,test_hex,'click')"
   ]
  },
  {
   "cell_type": "code",
   "execution_count": null,
   "metadata": {},
   "outputs": [],
   "source": []
  },
  {
   "cell_type": "code",
   "execution_count": null,
   "metadata": {},
   "outputs": [],
   "source": []
  },
  {
   "cell_type": "code",
   "execution_count": null,
   "metadata": {},
   "outputs": [],
   "source": []
  },
  {
   "cell_type": "code",
   "execution_count": 77,
   "metadata": {},
   "outputs": [
    {
     "name": "stdout",
     "output_type": "stream",
     "text": [
      "Parse progress: |█████████████████████████████████████████████████████████| 100%\n"
     ]
    }
   ],
   "source": [
    "# df_hex = h2o.H2OFrame(df)\n",
    "# train_hex = h2o.H2OFrame(train)\n"
   ]
  },
  {
   "cell_type": "code",
   "execution_count": null,
   "metadata": {},
   "outputs": [],
   "source": []
  },
  {
   "cell_type": "code",
   "execution_count": 70,
   "metadata": {},
   "outputs": [],
   "source": [
    "from h2o.estimators.random_forest import H2ORandomForestEstimator"
   ]
  },
  {
   "cell_type": "code",
   "execution_count": 33,
   "metadata": {},
   "outputs": [
    {
     "name": "stdout",
     "output_type": "stream",
     "text": [
      "<class 'pandas.core.frame.DataFrame'>\n",
      "Int64Index: 100000 entries, 85120 to 348333\n",
      "Data columns (total 11 columns):\n",
      " #   Column               Non-Null Count   Dtype  \n",
      "---  ------               --------------   -----  \n",
      " 0   email_text           100000 non-null  object \n",
      " 1   email_version        100000 non-null  object \n",
      " 2   hour                 100000 non-null  int64  \n",
      " 3   weekday              100000 non-null  object \n",
      " 4   user_country         100000 non-null  object \n",
      " 5   user_past_purchases  100000 non-null  int64  \n",
      " 6   open                 100000 non-null  float64\n",
      " 7   click                100000 non-null  float64\n",
      " 8   hour_bins            100000 non-null  object \n",
      " 9   location             100000 non-null  object \n",
      " 10  past_purchase        100000 non-null  object \n",
      "dtypes: float64(2), int64(2), object(7)\n",
      "memory usage: 11.7+ MB\n"
     ]
    }
   ],
   "source": [
    "df.info()"
   ]
  },
  {
   "cell_type": "code",
   "execution_count": 34,
   "metadata": {},
   "outputs": [],
   "source": [
    "X = df[['email_text','email_version','hour_bins','weekday','location','past_purchase']].copy()\n",
    "y = df['click'].copy()"
   ]
  },
  {
   "cell_type": "code",
   "execution_count": 35,
   "metadata": {},
   "outputs": [
    {
     "name": "stdout",
     "output_type": "stream",
     "text": [
      "<class 'pandas.core.frame.DataFrame'>\n",
      "Int64Index: 100000 entries, 85120 to 348333\n",
      "Data columns (total 6 columns):\n",
      " #   Column         Non-Null Count   Dtype \n",
      "---  ------         --------------   ----- \n",
      " 0   email_text     100000 non-null  object\n",
      " 1   email_version  100000 non-null  object\n",
      " 2   hour_bins      100000 non-null  object\n",
      " 3   weekday        100000 non-null  object\n",
      " 4   location       100000 non-null  object\n",
      " 5   past_purchase  100000 non-null  object\n",
      "dtypes: object(6)\n",
      "memory usage: 5.3+ MB\n"
     ]
    }
   ],
   "source": [
    "X.info()"
   ]
  },
  {
   "cell_type": "code",
   "execution_count": 36,
   "metadata": {},
   "outputs": [
    {
     "name": "stdout",
     "output_type": "stream",
     "text": [
      "<class 'pandas.core.frame.DataFrame'>\n",
      "Int64Index: 100000 entries, 85120 to 348333\n",
      "Data columns (total 6 columns):\n",
      " #   Column         Non-Null Count   Dtype   \n",
      "---  ------         --------------   -----   \n",
      " 0   email_text     100000 non-null  category\n",
      " 1   email_version  100000 non-null  category\n",
      " 2   hour_bins      100000 non-null  category\n",
      " 3   weekday        100000 non-null  category\n",
      " 4   location       100000 non-null  category\n",
      " 5   past_purchase  100000 non-null  category\n",
      "dtypes: category(6)\n",
      "memory usage: 1.3 MB\n"
     ]
    }
   ],
   "source": [
    "# convert object to category (category is more efficient than objects)\n",
    "LABEL = list(X.columns)\n",
    "categorized_label = lambda x: x.astype('category')\n",
    "X[LABEL] = X[LABEL].apply(categorized_label, axis=0)\n",
    "X.info()"
   ]
  },
  {
   "cell_type": "code",
   "execution_count": 37,
   "metadata": {},
   "outputs": [
    {
     "data": {
      "text/html": [
       "<div>\n",
       "<style scoped>\n",
       "    .dataframe tbody tr th:only-of-type {\n",
       "        vertical-align: middle;\n",
       "    }\n",
       "\n",
       "    .dataframe tbody tr th {\n",
       "        vertical-align: top;\n",
       "    }\n",
       "\n",
       "    .dataframe thead th {\n",
       "        text-align: right;\n",
       "    }\n",
       "</style>\n",
       "<table border=\"1\" class=\"dataframe\">\n",
       "  <thead>\n",
       "    <tr style=\"text-align: right;\">\n",
       "      <th></th>\n",
       "      <th>email_text</th>\n",
       "      <th>email_version</th>\n",
       "      <th>hour_bins</th>\n",
       "      <th>weekday</th>\n",
       "      <th>location</th>\n",
       "      <th>past_purchase</th>\n",
       "    </tr>\n",
       "    <tr>\n",
       "      <th>email_id</th>\n",
       "      <th></th>\n",
       "      <th></th>\n",
       "      <th></th>\n",
       "      <th></th>\n",
       "      <th></th>\n",
       "      <th></th>\n",
       "    </tr>\n",
       "  </thead>\n",
       "  <tbody>\n",
       "    <tr>\n",
       "      <th>85120</th>\n",
       "      <td>1</td>\n",
       "      <td>1</td>\n",
       "      <td>0</td>\n",
       "      <td>3</td>\n",
       "      <td>2</td>\n",
       "      <td>4</td>\n",
       "    </tr>\n",
       "    <tr>\n",
       "      <th>966622</th>\n",
       "      <td>0</td>\n",
       "      <td>1</td>\n",
       "      <td>1</td>\n",
       "      <td>3</td>\n",
       "      <td>1</td>\n",
       "      <td>1</td>\n",
       "    </tr>\n",
       "    <tr>\n",
       "      <th>777221</th>\n",
       "      <td>0</td>\n",
       "      <td>1</td>\n",
       "      <td>1</td>\n",
       "      <td>6</td>\n",
       "      <td>2</td>\n",
       "      <td>1</td>\n",
       "    </tr>\n",
       "    <tr>\n",
       "      <th>493711</th>\n",
       "      <td>1</td>\n",
       "      <td>0</td>\n",
       "      <td>4</td>\n",
       "      <td>1</td>\n",
       "      <td>1</td>\n",
       "      <td>0</td>\n",
       "    </tr>\n",
       "    <tr>\n",
       "      <th>106887</th>\n",
       "      <td>0</td>\n",
       "      <td>0</td>\n",
       "      <td>2</td>\n",
       "      <td>1</td>\n",
       "      <td>2</td>\n",
       "      <td>4</td>\n",
       "    </tr>\n",
       "  </tbody>\n",
       "</table>\n",
       "</div>"
      ],
      "text/plain": [
       "          email_text  email_version  hour_bins  weekday  location  \\\n",
       "email_id                                                            \n",
       "85120              1              1          0        3         2   \n",
       "966622             0              1          1        3         1   \n",
       "777221             0              1          1        6         2   \n",
       "493711             1              0          4        1         1   \n",
       "106887             0              0          2        1         2   \n",
       "\n",
       "          past_purchase  \n",
       "email_id                 \n",
       "85120                 4  \n",
       "966622                1  \n",
       "777221                1  \n",
       "493711                0  \n",
       "106887                4  "
      ]
     },
     "execution_count": 37,
     "metadata": {},
     "output_type": "execute_result"
    }
   ],
   "source": [
    "# Encode the Categorical Data - first try with label encoder\n",
    "from sklearn.preprocessing import LabelEncoder\n",
    "\n",
    "le = LabelEncoder()\n",
    "\n",
    "for col in X.columns:\n",
    "    if X[col].dtypes == 'category':\n",
    "        X[col] = le.fit_transform(X[col])\n",
    "        \n",
    "X.head()"
   ]
  },
  {
   "cell_type": "code",
   "execution_count": 38,
   "metadata": {},
   "outputs": [],
   "source": [
    "# split data into train & test\n",
    "from sklearn.model_selection import train_test_split\n",
    "\n",
    "X_train, X_test, y_train, y_test = train_test_split(X, y, test_size=.3, random_state=42)"
   ]
  },
  {
   "cell_type": "code",
   "execution_count": 39,
   "metadata": {},
   "outputs": [],
   "source": [
    "# scale the data?\n",
    "\n",
    "from sklearn.preprocessing import MinMaxScaler\n",
    "\n",
    "scaler = MinMaxScaler(feature_range=(0,1))\n",
    "\n",
    "rescaled_X_train = scaler.fit_transform(X_train)\n",
    "rescaled_X_test = scaler.transform(X_test)"
   ]
  },
  {
   "cell_type": "code",
   "execution_count": 40,
   "metadata": {},
   "outputs": [
    {
     "name": "stdout",
     "output_type": "stream",
     "text": [
      "Accuracy of logistic regression classifier:  0.9775333333333334\n",
      "[[29326     0]\n",
      " [  674     0]]\n",
      "Best: 0.978810 using {'max_iter': 100, 'tol': 0.01}\n"
     ]
    }
   ],
   "source": [
    "# Logistic Regression With Model Evaluation\n",
    "from sklearn.linear_model import LogisticRegression\n",
    "\n",
    "logreg = LogisticRegression()\n",
    "logreg.fit(rescaled_X_train, y_train)\n",
    "\n",
    "\n",
    "from sklearn.metrics import confusion_matrix\n",
    "\n",
    "y_pred = logreg.predict(rescaled_X_test)\n",
    "\n",
    "print(\"Accuracy of logistic regression classifier: \", logreg.score(rescaled_X_test, y_test))\n",
    "print(confusion_matrix(y_test, y_pred))\n",
    "\n",
    "\n",
    "from sklearn.model_selection import GridSearchCV\n",
    "\n",
    "'''Define the grid of values for tol and max_iter'''\n",
    "tol = [.01, .001, .0001]\n",
    "max_iter = [100, 150, 200]\n",
    "\n",
    "'''Create a dictionary where tol and max_iter are keys and the lists of their values are corresponding values'''\n",
    "param_grid = dict({\"tol\": tol, \"max_iter\": max_iter})\n",
    "\n",
    "'''Instantiate GridSearchCV with the required parameters''' \n",
    "grid_model = GridSearchCV(estimator=logreg, param_grid=param_grid, cv=5)\n",
    "\n",
    "'''Use scaler to rescale X and assign it to rescaledX'''\n",
    "rescaledX = scaler.fit_transform(X)\n",
    "\n",
    "'''Fit data to grid_model'''\n",
    "grid_model_result = grid_model.fit(rescaledX, y)\n",
    "\n",
    "'''Summarize results'''\n",
    "best_score, best_params = grid_model_result.best_score_, grid_model_result.best_params_\n",
    "print(\"Best: %f using %s\" % (best_score, best_params))"
   ]
  },
  {
   "cell_type": "code",
   "execution_count": 41,
   "metadata": {},
   "outputs": [],
   "source": [
    "# suffer from data imbalance, better resampling the data\n",
    "\n",
    "# decided to go with an oversampling method"
   ]
  },
  {
   "cell_type": "code",
   "execution_count": 42,
   "metadata": {},
   "outputs": [
    {
     "data": {
      "text/plain": [
       "0.0    0.97881\n",
       "1.0    0.02119\n",
       "Name: click, dtype: float64"
      ]
     },
     "execution_count": 42,
     "metadata": {},
     "output_type": "execute_result"
    }
   ],
   "source": [
    "df.click.value_counts(normalize=True)"
   ]
  },
  {
   "cell_type": "code",
   "execution_count": 43,
   "metadata": {},
   "outputs": [],
   "source": [
    "from imblearn.over_sampling import (RandomOverSampler, \n",
    "                                    SMOTE, \n",
    "                                    ADASYN)\n",
    "ros = RandomOverSampler(sampling_strategy = 0.3, random_state=42)\n",
    "X_rs, y_rs = ros.fit_resample(X, y)"
   ]
  },
  {
   "cell_type": "code",
   "execution_count": 44,
   "metadata": {},
   "outputs": [
    {
     "data": {
      "text/plain": [
       "0.0    0.769233\n",
       "1.0    0.230767\n",
       "Name: click, dtype: float64"
      ]
     },
     "execution_count": 44,
     "metadata": {},
     "output_type": "execute_result"
    }
   ],
   "source": [
    "y_rs.value_counts(normalize=True)"
   ]
  },
  {
   "cell_type": "code",
   "execution_count": 45,
   "metadata": {},
   "outputs": [
    {
     "data": {
      "text/html": [
       "<div>\n",
       "<style scoped>\n",
       "    .dataframe tbody tr th:only-of-type {\n",
       "        vertical-align: middle;\n",
       "    }\n",
       "\n",
       "    .dataframe tbody tr th {\n",
       "        vertical-align: top;\n",
       "    }\n",
       "\n",
       "    .dataframe thead th {\n",
       "        text-align: right;\n",
       "    }\n",
       "</style>\n",
       "<table border=\"1\" class=\"dataframe\">\n",
       "  <thead>\n",
       "    <tr style=\"text-align: right;\">\n",
       "      <th></th>\n",
       "      <th>email_text</th>\n",
       "      <th>email_version</th>\n",
       "      <th>hour_bins</th>\n",
       "      <th>weekday</th>\n",
       "      <th>location</th>\n",
       "      <th>past_purchase</th>\n",
       "    </tr>\n",
       "  </thead>\n",
       "  <tbody>\n",
       "    <tr>\n",
       "      <th>0</th>\n",
       "      <td>1</td>\n",
       "      <td>1</td>\n",
       "      <td>0</td>\n",
       "      <td>3</td>\n",
       "      <td>2</td>\n",
       "      <td>4</td>\n",
       "    </tr>\n",
       "    <tr>\n",
       "      <th>1</th>\n",
       "      <td>0</td>\n",
       "      <td>1</td>\n",
       "      <td>1</td>\n",
       "      <td>3</td>\n",
       "      <td>1</td>\n",
       "      <td>1</td>\n",
       "    </tr>\n",
       "    <tr>\n",
       "      <th>2</th>\n",
       "      <td>0</td>\n",
       "      <td>1</td>\n",
       "      <td>1</td>\n",
       "      <td>6</td>\n",
       "      <td>2</td>\n",
       "      <td>1</td>\n",
       "    </tr>\n",
       "    <tr>\n",
       "      <th>3</th>\n",
       "      <td>1</td>\n",
       "      <td>0</td>\n",
       "      <td>4</td>\n",
       "      <td>1</td>\n",
       "      <td>1</td>\n",
       "      <td>0</td>\n",
       "    </tr>\n",
       "    <tr>\n",
       "      <th>4</th>\n",
       "      <td>0</td>\n",
       "      <td>0</td>\n",
       "      <td>2</td>\n",
       "      <td>1</td>\n",
       "      <td>2</td>\n",
       "      <td>4</td>\n",
       "    </tr>\n",
       "  </tbody>\n",
       "</table>\n",
       "</div>"
      ],
      "text/plain": [
       "   email_text  email_version  hour_bins  weekday  location  past_purchase\n",
       "0           1              1          0        3         2              4\n",
       "1           0              1          1        3         1              1\n",
       "2           0              1          1        6         2              1\n",
       "3           1              0          4        1         1              0\n",
       "4           0              0          2        1         2              4"
      ]
     },
     "execution_count": 45,
     "metadata": {},
     "output_type": "execute_result"
    }
   ],
   "source": [
    "X_rs.head()"
   ]
  },
  {
   "cell_type": "code",
   "execution_count": 46,
   "metadata": {},
   "outputs": [],
   "source": [
    "X_train, X_test, y_train, y_test = train_test_split(X_rs, y_rs, test_size=.3, random_state=42)\n",
    "\n",
    "scaler = MinMaxScaler(feature_range=(0,1))\n",
    "\n",
    "rescaled_X_train = scaler.fit_transform(X_train)\n",
    "rescaled_X_test = scaler.transform(X_test)"
   ]
  },
  {
   "cell_type": "code",
   "execution_count": 47,
   "metadata": {},
   "outputs": [
    {
     "name": "stdout",
     "output_type": "stream",
     "text": [
      "Accuracy of logistic regression classifier:  0.7788809137109027\n",
      "[[28481   979]\n",
      " [ 7462  1252]]\n",
      "Best: 0.978810 using {'max_iter': 100, 'tol': 0.01}\n"
     ]
    }
   ],
   "source": [
    "# Logistic Regression With Model Evaluation\n",
    "from sklearn.linear_model import LogisticRegression\n",
    "\n",
    "logreg = LogisticRegression()\n",
    "logreg.fit(rescaled_X_train, y_train)\n",
    "\n",
    "\n",
    "from sklearn.metrics import confusion_matrix\n",
    "\n",
    "y_pred = logreg.predict(rescaled_X_test)\n",
    "\n",
    "print(\"Accuracy of logistic regression classifier: \", logreg.score(rescaled_X_test, y_test))\n",
    "print(confusion_matrix(y_test, y_pred))\n",
    "\n",
    "\n",
    "from sklearn.model_selection import GridSearchCV\n",
    "\n",
    "'''Define the grid of values for tol and max_iter'''\n",
    "tol = [.01, .001, .0001]\n",
    "max_iter = [100, 150, 200]\n",
    "\n",
    "'''Create a dictionary where tol and max_iter are keys and the lists of their values are corresponding values'''\n",
    "param_grid = dict({\"tol\": tol, \"max_iter\": max_iter})\n",
    "\n",
    "'''Instantiate GridSearchCV with the required parameters''' \n",
    "grid_model = GridSearchCV(estimator=logreg, param_grid=param_grid, cv=5)\n",
    "\n",
    "'''Use scaler to rescale X and assign it to rescaledX'''\n",
    "rescaledX = scaler.fit_transform(X)\n",
    "\n",
    "'''Fit data to grid_model'''\n",
    "grid_model_result = grid_model.fit(rescaledX, y)\n",
    "\n",
    "'''Summarize results'''\n",
    "best_score, best_params = grid_model_result.best_score_, grid_model_result.best_params_\n",
    "print(\"Best: %f using %s\" % (best_score, best_params))"
   ]
  },
  {
   "cell_type": "code",
   "execution_count": 48,
   "metadata": {},
   "outputs": [
    {
     "data": {
      "text/plain": [
       "GridSearchCV(cv=5, estimator=LogisticRegression(),\n",
       "             param_grid={'max_iter': [100, 150, 200],\n",
       "                         'tol': [0.01, 0.001, 0.0001]})"
      ]
     },
     "execution_count": 48,
     "metadata": {},
     "output_type": "execute_result"
    }
   ],
   "source": [
    "grid_model_result"
   ]
  },
  {
   "cell_type": "code",
   "execution_count": 49,
   "metadata": {},
   "outputs": [
    {
     "data": {
      "text/plain": [
       "email_id\n",
       "85120     0.0\n",
       "966622    1.0\n",
       "777221    0.0\n",
       "493711    0.0\n",
       "106887    0.0\n",
       "         ... \n",
       "803504    0.0\n",
       "899722    0.0\n",
       "449610    0.0\n",
       "72497     0.0\n",
       "348333    1.0\n",
       "Name: click, Length: 100000, dtype: float64"
      ]
     },
     "execution_count": 49,
     "metadata": {},
     "output_type": "execute_result"
    }
   ],
   "source": [
    "y"
   ]
  },
  {
   "cell_type": "code",
   "execution_count": 66,
   "metadata": {},
   "outputs": [
    {
     "data": {
      "text/html": [
       "<div>\n",
       "<style scoped>\n",
       "    .dataframe tbody tr th:only-of-type {\n",
       "        vertical-align: middle;\n",
       "    }\n",
       "\n",
       "    .dataframe tbody tr th {\n",
       "        vertical-align: top;\n",
       "    }\n",
       "\n",
       "    .dataframe thead th {\n",
       "        text-align: right;\n",
       "    }\n",
       "</style>\n",
       "<table border=\"1\" class=\"dataframe\">\n",
       "  <thead>\n",
       "    <tr style=\"text-align: right;\">\n",
       "      <th></th>\n",
       "      <th>actual</th>\n",
       "      <th>pred</th>\n",
       "    </tr>\n",
       "  </thead>\n",
       "  <tbody>\n",
       "    <tr>\n",
       "      <th>0</th>\n",
       "      <td>0.0</td>\n",
       "      <td>0.0</td>\n",
       "    </tr>\n",
       "    <tr>\n",
       "      <th>1</th>\n",
       "      <td>1.0</td>\n",
       "      <td>0.0</td>\n",
       "    </tr>\n",
       "    <tr>\n",
       "      <th>2</th>\n",
       "      <td>0.0</td>\n",
       "      <td>0.0</td>\n",
       "    </tr>\n",
       "    <tr>\n",
       "      <th>3</th>\n",
       "      <td>0.0</td>\n",
       "      <td>0.0</td>\n",
       "    </tr>\n",
       "    <tr>\n",
       "      <th>4</th>\n",
       "      <td>0.0</td>\n",
       "      <td>0.0</td>\n",
       "    </tr>\n",
       "  </tbody>\n",
       "</table>\n",
       "</div>"
      ],
      "text/plain": [
       "   actual  pred\n",
       "0     0.0   0.0\n",
       "1     1.0   0.0\n",
       "2     0.0   0.0\n",
       "3     0.0   0.0\n",
       "4     0.0   0.0"
      ]
     },
     "execution_count": 66,
     "metadata": {},
     "output_type": "execute_result"
    }
   ],
   "source": [
    "y_grid = pd.DataFrame(grid_model.predict(rescaledX))\n",
    "actual_predict = pd.concat([y.reset_index().drop('email_id',axis=1),y_grid], axis=1)\n",
    "actual_predict.columns = ['actual','pred']\n",
    "actual_predict.head()"
   ]
  },
  {
   "cell_type": "code",
   "execution_count": 67,
   "metadata": {},
   "outputs": [],
   "source": [
    "def gains_table(df_actual_predict):\n",
    "    df_actual_predict = df_actual_predict.sort_values(by='pred',ascending=False)\n",
    "    df_actual_predict['row_id'] = range(0,0+len(df_actual_predict))\n",
    "    \n",
    "    df_actual_predict['decile'] = (df_actual_predict['row_id'] / (len(df_actual_predict)/10)).astype(int)\n",
    "    df_actual_predict.loc[df_actual_predict['decile'] == 10] =9\n",
    "    \n",
    "    # Create gains table\n",
    "    gains = df_actual_predict.groupby('decile')['actual'].agg(['count','sum'])\n",
    "    gains.columns = ['count','actual']\n",
    "    gains\n",
    "\n",
    "    gains['non_actual'] = gains['count'] - gains['actual']\n",
    "    gains['cum_count'] = gains['count'].cumsum()\n",
    "    gains['cum_actual'] = gains['actual'].cumsum()\n",
    "    gains['cum_non_actual'] = gains['non_actual'].cumsum()\n",
    "    gains['percent_cum_actual'] = (gains['cum_actual'] / np.max(gains['cum_actual'])).round(2)\n",
    "    gains['percent_cum_non_actual'] = (gains['cum_non_actual'] / np.max(gains['cum_non_actual'])).round(2)\n",
    "    gains['if_random'] = np.max(gains['cum_actual']) /10\n",
    "    gains['if_random'] = gains['if_random'].cumsum()\n",
    "    gains['lift'] = (gains['cum_actual'] / gains['if_random']).round(2)\n",
    "    gains['K_S'] = np.abs( gains['percent_cum_actual'] - gains['percent_cum_non_actual']  ) * 100 \n",
    "    gains['gain'] = (gains['cum_actual'] / gains['cum_count']*100).round(2)\n",
    "    return(gains)\n",
    "\n",
    "def ROC_PR(df_actual_predict):\n",
    "    \n",
    "    # ROC\n",
    "    from sklearn.metrics import roc_curve,roc_auc_score, auc \n",
    "    from sklearn.metrics import average_precision_score, precision_recall_curve\n",
    "\n",
    "    roc_auc_value = roc_auc_score(df_actual_predict['actual'],df_actual_predict['pred'])\n",
    "    fpr, tpr, _ = roc_curve(df_actual_predict['actual'],df_actual_predict['pred'])\n",
    "    roc_auc = auc(fpr,tpr)\n",
    "    \n",
    "    import matplotlib.pyplot as plt\n",
    "    lw=2\n",
    "    plt.figure(figsize=(10,4))\n",
    "    plt.subplot(1,2,1)\n",
    "    plt.plot(fpr,tpr, color='darkorange',lw=lw,label='AUC = %0.4f)' %roc_auc_value)\n",
    "    plt.plot([0,1],[0,1], color='navy',lw=lw,linestyle='--')\n",
    "    plt.xlim([0,1])\n",
    "    plt.ylim([0,1])\n",
    "    plt.xlabel('False Positive Rate')\n",
    "    plt.ylabel('True Positive Rate')\n",
    "    plt.title('ROC Curve: AUC={0:0.4f}'.format(roc_auc_value))\n",
    "    plt.legend(loc='lower right')\n",
    "    \n",
    "    # Precision-Recall\n",
    "    plt.subplot(1,2,2)\n",
    "    average_precision = average_precision_score(df_actual_predict['actual'],df_actual_predict['pred'])\n",
    "    precision, recall, _ = precision_recall_curve(df_actual_predict['actual'],df_actual_predict['pred'])\n",
    "    plt.step(recall, precision, color='b', alpha=0.2, where='post')\n",
    "    plt.fill_between(recall,precision,step='post',alpha=0.2,color='b')\n",
    "    plt.xlabel('Recall')\n",
    "    plt.ylabel('Precision')\n",
    "    plt.ylim([0.0,1.05])\n",
    "    plt.ylim([0.0,1.05])\n",
    "    plt.title('Precision-Recall curve: PR={0:0.4f}'.format(average_precision))\n"
   ]
  },
  {
   "cell_type": "code",
   "execution_count": 68,
   "metadata": {},
   "outputs": [
    {
     "data": {
      "image/png": "[encoded data removed]",
      "text/plain": [
       "<Figure size 720x288 with 2 Axes>"
      ]
     },
     "metadata": {},
     "output_type": "display_data"
    }
   ],
   "source": [
    "ROC_PR(actual_predict)"
   ]
  },
  {
   "cell_type": "code",
   "execution_count": null,
   "metadata": {},
   "outputs": [],
   "source": []
  },
  {
   "cell_type": "code",
   "execution_count": null,
   "metadata": {},
   "outputs": [],
   "source": [
    "def actual_predict(model,df,target):\n",
    "    y_pred = pd.DataFrame(model.predict(df[predictors]))\n",
    "    y_actual = df[target]\n",
    "    df_actual_predict = pd.concat([y_actual,y_pred],axis=1)\n",
    "    df_actual_predict.columns = ['actual','pred']\n",
    "    return(df_actual_predict)\n",
    "\n",
    "Actual_predict = actual_predict(Best_model,df,target)\n",
    "Actual_predict.head()"
   ]
  },
  {
   "cell_type": "code",
   "execution_count": 223,
   "metadata": {},
   "outputs": [],
   "source": [
    "def VarImp(model_name,m_name):\n",
    "    \n",
    "    from sklearn.metrics import roc_curve,auc\n",
    "    from sklearn.metrics import average_precision_score\n",
    "    from sklearn.metrics import precision_recall_curve\n",
    "    import matplotlib.pyplot as plt\n",
    "    \n",
    "    # plot the variable importance\n",
    "    plt.rcdefaults()\n",
    "    variables = model_name._model_json['output']['variable_importances']['variable']\n",
    "    y_pos = np.arange(len(variables))\n",
    "    fig, ax = plt.subplots(figsize = (12,12))\n",
    "    scaled_importance = model_name._model_json['output']['variable_importances']['scaled_importance']\n",
    "    ax.barh(y_pos,scaled_importance,align='center',color='green')\n",
    "    ax.set_yticks(y_pos)\n",
    "    ax.set_yticklabels(variables)\n",
    "    ax.invert_yaxis()\n",
    "    ax.set_xlabel('Scaled Importance')\n",
    "    ax.set_title(m_name + ' Variable Importance')\n",
    "    plt.show()"
   ]
  },
  {
   "cell_type": "code",
   "execution_count": 225,
   "metadata": {},
   "outputs": [
    {
     "ename": "AttributeError",
     "evalue": "'LogisticRegression' object has no attribute '_model_json'",
     "output_type": "error",
     "traceback": [
      "\u001b[0;31m---------------------------------------------------------------------------\u001b[0m",
      "\u001b[0;31mAttributeError\u001b[0m                            Traceback (most recent call last)",
      "\u001b[0;32m<ipython-input-225-b24cadb13d33>\u001b[0m in \u001b[0;36m<module>\u001b[0;34m\u001b[0m\n\u001b[0;32m----> 1\u001b[0;31m \u001b[0mVarImp\u001b[0m\u001b[0;34m(\u001b[0m\u001b[0mlogreg\u001b[0m\u001b[0;34m,\u001b[0m \u001b[0;34m\"Logistic Regression\"\u001b[0m\u001b[0;34m)\u001b[0m\u001b[0;34m\u001b[0m\u001b[0;34m\u001b[0m\u001b[0m\n\u001b[0m",
      "\u001b[0;32m<ipython-input-223-1f9af03ee5e6>\u001b[0m in \u001b[0;36mVarImp\u001b[0;34m(model_name, m_name)\u001b[0m\n\u001b[1;32m      8\u001b[0m     \u001b[0;31m# plot the variable importance\u001b[0m\u001b[0;34m\u001b[0m\u001b[0;34m\u001b[0m\u001b[0;34m\u001b[0m\u001b[0m\n\u001b[1;32m      9\u001b[0m     \u001b[0mplt\u001b[0m\u001b[0;34m.\u001b[0m\u001b[0mrcdefaults\u001b[0m\u001b[0;34m(\u001b[0m\u001b[0;34m)\u001b[0m\u001b[0;34m\u001b[0m\u001b[0;34m\u001b[0m\u001b[0m\n\u001b[0;32m---> 10\u001b[0;31m     \u001b[0mvariables\u001b[0m \u001b[0;34m=\u001b[0m \u001b[0mmodel_name\u001b[0m\u001b[0;34m.\u001b[0m\u001b[0m_model_json\u001b[0m\u001b[0;34m[\u001b[0m\u001b[0;34m'output'\u001b[0m\u001b[0;34m]\u001b[0m\u001b[0;34m[\u001b[0m\u001b[0;34m'variable_importances'\u001b[0m\u001b[0;34m]\u001b[0m\u001b[0;34m[\u001b[0m\u001b[0;34m'variable'\u001b[0m\u001b[0;34m]\u001b[0m\u001b[0;34m\u001b[0m\u001b[0;34m\u001b[0m\u001b[0m\n\u001b[0m\u001b[1;32m     11\u001b[0m     \u001b[0my_pos\u001b[0m \u001b[0;34m=\u001b[0m \u001b[0mnp\u001b[0m\u001b[0;34m.\u001b[0m\u001b[0marange\u001b[0m\u001b[0;34m(\u001b[0m\u001b[0mlen\u001b[0m\u001b[0;34m(\u001b[0m\u001b[0mvariables\u001b[0m\u001b[0;34m)\u001b[0m\u001b[0;34m)\u001b[0m\u001b[0;34m\u001b[0m\u001b[0;34m\u001b[0m\u001b[0m\n\u001b[1;32m     12\u001b[0m     \u001b[0mfig\u001b[0m\u001b[0;34m,\u001b[0m \u001b[0max\u001b[0m \u001b[0;34m=\u001b[0m \u001b[0mplt\u001b[0m\u001b[0;34m.\u001b[0m\u001b[0msubplots\u001b[0m\u001b[0;34m(\u001b[0m\u001b[0mfigsize\u001b[0m \u001b[0;34m=\u001b[0m \u001b[0;34m(\u001b[0m\u001b[0;36m12\u001b[0m\u001b[0;34m,\u001b[0m\u001b[0;36m12\u001b[0m\u001b[0;34m)\u001b[0m\u001b[0;34m)\u001b[0m\u001b[0;34m\u001b[0m\u001b[0;34m\u001b[0m\u001b[0m\n",
      "\u001b[0;31mAttributeError\u001b[0m: 'LogisticRegression' object has no attribute '_model_json'"
     ]
    }
   ],
   "source": [
    "VarImp(logreg, \"Logistic Regression\")"
   ]
  },
  {
   "cell_type": "code",
   "execution_count": null,
   "metadata": {},
   "outputs": [],
   "source": []
  },
  {
   "cell_type": "code",
   "execution_count": 103,
   "metadata": {},
   "outputs": [
    {
     "data": {
      "text/html": [
       "<div>\n",
       "<style scoped>\n",
       "    .dataframe tbody tr th:only-of-type {\n",
       "        vertical-align: middle;\n",
       "    }\n",
       "\n",
       "    .dataframe tbody tr th {\n",
       "        vertical-align: top;\n",
       "    }\n",
       "\n",
       "    .dataframe thead th {\n",
       "        text-align: right;\n",
       "    }\n",
       "</style>\n",
       "<table border=\"1\" class=\"dataframe\">\n",
       "  <thead>\n",
       "    <tr style=\"text-align: right;\">\n",
       "      <th></th>\n",
       "      <th>email_text</th>\n",
       "      <th>email_version</th>\n",
       "      <th>hour</th>\n",
       "      <th>weekday</th>\n",
       "      <th>user_country</th>\n",
       "      <th>user_past_purchases</th>\n",
       "      <th>open</th>\n",
       "      <th>click</th>\n",
       "    </tr>\n",
       "    <tr>\n",
       "      <th>email_id</th>\n",
       "      <th></th>\n",
       "      <th></th>\n",
       "      <th></th>\n",
       "      <th></th>\n",
       "      <th></th>\n",
       "      <th></th>\n",
       "      <th></th>\n",
       "      <th></th>\n",
       "    </tr>\n",
       "  </thead>\n",
       "  <tbody>\n",
       "    <tr>\n",
       "      <th>85120</th>\n",
       "      <td>short_email</td>\n",
       "      <td>personalized</td>\n",
       "      <td>2</td>\n",
       "      <td>Sunday</td>\n",
       "      <td>US</td>\n",
       "      <td>5</td>\n",
       "      <td>0.0</td>\n",
       "      <td>0.0</td>\n",
       "    </tr>\n",
       "    <tr>\n",
       "      <th>966622</th>\n",
       "      <td>long_email</td>\n",
       "      <td>personalized</td>\n",
       "      <td>12</td>\n",
       "      <td>Sunday</td>\n",
       "      <td>UK</td>\n",
       "      <td>2</td>\n",
       "      <td>1.0</td>\n",
       "      <td>1.0</td>\n",
       "    </tr>\n",
       "    <tr>\n",
       "      <th>777221</th>\n",
       "      <td>long_email</td>\n",
       "      <td>personalized</td>\n",
       "      <td>11</td>\n",
       "      <td>Wednesday</td>\n",
       "      <td>US</td>\n",
       "      <td>2</td>\n",
       "      <td>0.0</td>\n",
       "      <td>0.0</td>\n",
       "    </tr>\n",
       "    <tr>\n",
       "      <th>493711</th>\n",
       "      <td>short_email</td>\n",
       "      <td>generic</td>\n",
       "      <td>6</td>\n",
       "      <td>Monday</td>\n",
       "      <td>UK</td>\n",
       "      <td>1</td>\n",
       "      <td>0.0</td>\n",
       "      <td>0.0</td>\n",
       "    </tr>\n",
       "    <tr>\n",
       "      <th>106887</th>\n",
       "      <td>long_email</td>\n",
       "      <td>generic</td>\n",
       "      <td>14</td>\n",
       "      <td>Monday</td>\n",
       "      <td>US</td>\n",
       "      <td>6</td>\n",
       "      <td>0.0</td>\n",
       "      <td>0.0</td>\n",
       "    </tr>\n",
       "  </tbody>\n",
       "</table>\n",
       "</div>"
      ],
      "text/plain": [
       "           email_text email_version  hour    weekday user_country  \\\n",
       "email_id                                                            \n",
       "85120     short_email  personalized     2     Sunday           US   \n",
       "966622     long_email  personalized    12     Sunday           UK   \n",
       "777221     long_email  personalized    11  Wednesday           US   \n",
       "493711    short_email       generic     6     Monday           UK   \n",
       "106887     long_email       generic    14     Monday           US   \n",
       "\n",
       "          user_past_purchases  open  click  \n",
       "email_id                                    \n",
       "85120                       5   0.0    0.0  \n",
       "966622                      2   1.0    1.0  \n",
       "777221                      2   0.0    0.0  \n",
       "493711                      1   0.0    0.0  \n",
       "106887                      6   0.0    0.0  "
      ]
     },
     "execution_count": 103,
     "metadata": {},
     "output_type": "execute_result"
    }
   ],
   "source": [
    "df.head()"
   ]
  },
  {
   "cell_type": "code",
   "execution_count": null,
   "metadata": {},
   "outputs": [],
   "source": []
  },
  {
   "cell_type": "code",
   "execution_count": null,
   "metadata": {},
   "outputs": [],
   "source": []
  },
  {
   "cell_type": "code",
   "execution_count": null,
   "metadata": {},
   "outputs": [],
   "source": []
  },
  {
   "cell_type": "code",
   "execution_count": null,
   "metadata": {},
   "outputs": [],
   "source": []
  },
  {
   "cell_type": "code",
   "execution_count": null,
   "metadata": {},
   "outputs": [],
   "source": []
  },
  {
   "cell_type": "code",
   "execution_count": null,
   "metadata": {},
   "outputs": [],
   "source": []
  },
  {
   "cell_type": "code",
   "execution_count": null,
   "metadata": {},
   "outputs": [],
   "source": []
  },
  {
   "cell_type": "code",
   "execution_count": 40,
   "metadata": {},
   "outputs": [
    {
     "data": {
      "text/html": [
       "<div>\n",
       "<style scoped>\n",
       "    .dataframe tbody tr th:only-of-type {\n",
       "        vertical-align: middle;\n",
       "    }\n",
       "\n",
       "    .dataframe tbody tr th {\n",
       "        vertical-align: top;\n",
       "    }\n",
       "\n",
       "    .dataframe thead th {\n",
       "        text-align: right;\n",
       "    }\n",
       "</style>\n",
       "<table border=\"1\" class=\"dataframe\">\n",
       "  <thead>\n",
       "    <tr style=\"text-align: right;\">\n",
       "      <th></th>\n",
       "      <th>email_text</th>\n",
       "      <th>email_version</th>\n",
       "      <th>hour</th>\n",
       "      <th>weekday</th>\n",
       "      <th>user_country</th>\n",
       "      <th>user_past_purchases</th>\n",
       "      <th>click</th>\n",
       "    </tr>\n",
       "    <tr>\n",
       "      <th>email_id</th>\n",
       "      <th></th>\n",
       "      <th></th>\n",
       "      <th></th>\n",
       "      <th></th>\n",
       "      <th></th>\n",
       "      <th></th>\n",
       "      <th></th>\n",
       "    </tr>\n",
       "  </thead>\n",
       "  <tbody>\n",
       "    <tr>\n",
       "      <th>966622</th>\n",
       "      <td>long_email</td>\n",
       "      <td>personalized</td>\n",
       "      <td>12</td>\n",
       "      <td>Sunday</td>\n",
       "      <td>UK</td>\n",
       "      <td>2</td>\n",
       "      <td>1.0</td>\n",
       "    </tr>\n",
       "    <tr>\n",
       "      <th>139620</th>\n",
       "      <td>short_email</td>\n",
       "      <td>personalized</td>\n",
       "      <td>9</td>\n",
       "      <td>Saturday</td>\n",
       "      <td>US</td>\n",
       "      <td>8</td>\n",
       "      <td>0.0</td>\n",
       "    </tr>\n",
       "    <tr>\n",
       "      <th>635573</th>\n",
       "      <td>short_email</td>\n",
       "      <td>personalized</td>\n",
       "      <td>3</td>\n",
       "      <td>Thursday</td>\n",
       "      <td>US</td>\n",
       "      <td>8</td>\n",
       "      <td>0.0</td>\n",
       "    </tr>\n",
       "    <tr>\n",
       "      <th>117471</th>\n",
       "      <td>long_email</td>\n",
       "      <td>personalized</td>\n",
       "      <td>5</td>\n",
       "      <td>Saturday</td>\n",
       "      <td>US</td>\n",
       "      <td>1</td>\n",
       "      <td>0.0</td>\n",
       "    </tr>\n",
       "    <tr>\n",
       "      <th>364825</th>\n",
       "      <td>short_email</td>\n",
       "      <td>personalized</td>\n",
       "      <td>6</td>\n",
       "      <td>Friday</td>\n",
       "      <td>UK</td>\n",
       "      <td>3</td>\n",
       "      <td>0.0</td>\n",
       "    </tr>\n",
       "  </tbody>\n",
       "</table>\n",
       "</div>"
      ],
      "text/plain": [
       "           email_text email_version  hour   weekday user_country  \\\n",
       "email_id                                                           \n",
       "966622     long_email  personalized    12    Sunday           UK   \n",
       "139620    short_email  personalized     9  Saturday           US   \n",
       "635573    short_email  personalized     3  Thursday           US   \n",
       "117471     long_email  personalized     5  Saturday           US   \n",
       "364825    short_email  personalized     6    Friday           UK   \n",
       "\n",
       "          user_past_purchases  click  \n",
       "email_id                              \n",
       "966622                      2    1.0  \n",
       "139620                      8    0.0  \n",
       "635573                      8    0.0  \n",
       "117471                      1    0.0  \n",
       "364825                      3    0.0  "
      ]
     },
     "execution_count": 40,
     "metadata": {},
     "output_type": "execute_result"
    }
   ],
   "source": [
    "# split another dataframe for the second point\n",
    "# data \n",
    "data = df[df['open']==1].drop('open', axis=1).copy()\n",
    "data.head()"
   ]
  },
  {
   "cell_type": "markdown",
   "metadata": {},
   "source": [
    "## Data Exploration"
   ]
  },
  {
   "cell_type": "code",
   "execution_count": 60,
   "metadata": {},
   "outputs": [],
   "source": [
    "# !pip install plot_utils"
   ]
  },
  {
   "cell_type": "code",
   "execution_count": 65,
   "metadata": {},
   "outputs": [],
   "source": [
    "sns.set_style(\"darkgrid\")"
   ]
  },
  {
   "cell_type": "code",
   "execution_count": 47,
   "metadata": {},
   "outputs": [],
   "source": [
    "import plot_utils as pu"
   ]
  },
  {
   "cell_type": "code",
   "execution_count": 62,
   "metadata": {},
   "outputs": [
    {
     "data": {
      "image/png": "[encoded data removed]",
      "text/plain": [
       "<Figure size 300x300 with 1 Axes>"
      ]
     },
     "metadata": {},
     "output_type": "display_data"
    }
   ],
   "source": [
    "pu.piechart(data['click'], title='Clicked',)\n",
    "# pu.discrete_histogram(data['email_text'], xlabel='Email_Text_Length')\n",
    "\n",
    "plt.show()"
   ]
  },
  {
   "cell_type": "code",
   "execution_count": 66,
   "metadata": {},
   "outputs": [
    {
     "data": {
      "text/plain": [
       "<matplotlib.axes._subplots.AxesSubplot at 0x12848f5e0>"
      ]
     },
     "execution_count": 66,
     "metadata": {},
     "output_type": "execute_result"
    },
    {
     "data": {
      "image/png": "[encoded data removed]",
      "text/plain": [
       "<Figure size 432x288 with 1 Axes>"
      ]
     },
     "metadata": {},
     "output_type": "display_data"
    }
   ],
   "source": [
    "sns.countplot(x='email_text', hue='click', data=data)"
   ]
  },
  {
   "cell_type": "code",
   "execution_count": 69,
   "metadata": {},
   "outputs": [
    {
     "data": {
      "text/plain": [
       "email_text\n",
       "long_email     0.197208\n",
       "short_email    0.202222\n",
       "Name: click, dtype: float64"
      ]
     },
     "execution_count": 69,
     "metadata": {},
     "output_type": "execute_result"
    }
   ],
   "source": [
    "data.groupby('email_text').mean()['click']\n",
    "\n",
    "# seems that short emails lead to slightly higher clicks"
   ]
  },
  {
   "cell_type": "code",
   "execution_count": 70,
   "metadata": {},
   "outputs": [
    {
     "data": {
      "text/plain": [
       "email_version\n",
       "generic         0.182982\n",
       "personalized    0.210659\n",
       "Name: click, dtype: float64"
      ]
     },
     "execution_count": 70,
     "metadata": {},
     "output_type": "execute_result"
    }
   ],
   "source": [
    "data.groupby('email_version').mean()['click']\n",
    "\n",
    "# seems that personalized emails lead to slightly higher clicks"
   ]
  },
  {
   "cell_type": "code",
   "execution_count": 72,
   "metadata": {},
   "outputs": [
    {
     "data": {
      "image/png": "[encoded data removed]",
      "text/plain": [
       "<Figure size 864x576 with 1 Axes>"
      ]
     },
     "metadata": {},
     "output_type": "display_data"
    }
   ],
   "source": [
    "plt.figure(figsize=(12,8))\n",
    "\n",
    "_ = sns.countplot(data['hour'], order = data['hour'].value_counts().index, palette=\"Set2\", hue=data['click'])\n",
    "\n",
    "_.set_xlabel('Hour of Sending')\n",
    "_.set_ylabel('Frequcency')\n",
    "_.set_title('Frequency of Hour of Sending Emails')\n",
    "\n",
    "plt.show()"
   ]
  },
  {
   "cell_type": "code",
   "execution_count": 76,
   "metadata": {},
   "outputs": [
    {
     "data": {
      "image/png": "[encoded data removed]",
      "text/plain": [
       "<Figure size 864x576 with 1 Axes>"
      ]
     },
     "metadata": {},
     "output_type": "display_data"
    }
   ],
   "source": [
    "plt.figure(figsize=(12,8))\n",
    "\n",
    "_ = sns.countplot(data['hour'], order = data.groupby('hour').mean()['click'].sort_values().index, palette=\"Set2\")\n",
    "\n",
    "_.set_xlabel('Hour of Sending')\n",
    "_.set_ylabel('Frequcency')\n",
    "_.set_title('Frequency of Hour of Sending Emails')\n",
    "\n",
    "plt.show()"
   ]
  },
  {
   "cell_type": "code",
   "execution_count": 81,
   "metadata": {},
   "outputs": [
    {
     "data": {
      "text/plain": [
       "<matplotlib.axes._subplots.AxesSubplot at 0x12a529e50>"
      ]
     },
     "execution_count": 81,
     "metadata": {},
     "output_type": "execute_result"
    },
    {
     "data": {
      "image/png": "[encoded data removed]",
      "text/plain": [
       "<Figure size 432x288 with 1 Axes>"
      ]
     },
     "metadata": {},
     "output_type": "display_data"
    }
   ],
   "source": [
    "data.hour.value_counts()[data.hour.value_counts()>=100].plot(kind='bar')"
   ]
  },
  {
   "cell_type": "code",
   "execution_count": 83,
   "metadata": {},
   "outputs": [
    {
     "data": {
      "text/plain": [
       "<matplotlib.axes._subplots.AxesSubplot at 0x12a522d30>"
      ]
     },
     "execution_count": 83,
     "metadata": {},
     "output_type": "execute_result"
    },
    {
     "data": {
      "image/png": "[encoded data removed]",
      "text/plain": [
       "<Figure size 432x288 with 1 Axes>"
      ]
     },
     "metadata": {},
     "output_type": "display_data"
    }
   ],
   "source": [
    "sns.barplot(x='email_version', y='click', data=df)"
   ]
  },
  {
   "cell_type": "code",
   "execution_count": null,
   "metadata": {},
   "outputs": [],
   "source": []
  },
  {
   "cell_type": "code",
   "execution_count": null,
   "metadata": {},
   "outputs": [],
   "source": []
  },
  {
   "cell_type": "code",
   "execution_count": null,
   "metadata": {},
   "outputs": [],
   "source": []
  },
  {
   "cell_type": "code",
   "execution_count": 75,
   "metadata": {},
   "outputs": [
    {
     "data": {
      "text/plain": [
       "hour\n",
       "20    0.137931\n",
       "21    0.142857\n",
       "17    0.169082\n",
       "18    0.171642\n",
       "13    0.178982\n",
       "4     0.179435\n",
       "2     0.179567\n",
       "14    0.179641\n",
       "24    0.181818\n",
       "6     0.183976\n",
       "1     0.196653\n",
       "7     0.197564\n",
       "9     0.200560\n",
       "12    0.203704\n",
       "11    0.208025\n",
       "10    0.208680\n",
       "16    0.211073\n",
       "8     0.212651\n",
       "5     0.213755\n",
       "19    0.220588\n",
       "3     0.228205\n",
       "22    0.230769\n",
       "15    0.230978\n",
       "23    0.500000\n",
       "Name: click, dtype: float64"
      ]
     },
     "execution_count": 75,
     "metadata": {},
     "output_type": "execute_result"
    }
   ],
   "source": [
    "data.groupby('hour').mean()['click'].sort_values()"
   ]
  },
  {
   "cell_type": "code",
   "execution_count": null,
   "metadata": {},
   "outputs": [],
   "source": []
  },
  {
   "cell_type": "code",
   "execution_count": null,
   "metadata": {},
   "outputs": [],
   "source": []
  },
  {
   "cell_type": "code",
   "execution_count": 71,
   "metadata": {},
   "outputs": [
    {
     "data": {
      "text/html": [
       "<div>\n",
       "<style scoped>\n",
       "    .dataframe tbody tr th:only-of-type {\n",
       "        vertical-align: middle;\n",
       "    }\n",
       "\n",
       "    .dataframe tbody tr th {\n",
       "        vertical-align: top;\n",
       "    }\n",
       "\n",
       "    .dataframe thead th {\n",
       "        text-align: right;\n",
       "    }\n",
       "</style>\n",
       "<table border=\"1\" class=\"dataframe\">\n",
       "  <thead>\n",
       "    <tr style=\"text-align: right;\">\n",
       "      <th></th>\n",
       "      <th>email_text</th>\n",
       "      <th>email_version</th>\n",
       "      <th>hour</th>\n",
       "      <th>weekday</th>\n",
       "      <th>user_country</th>\n",
       "      <th>user_past_purchases</th>\n",
       "      <th>click</th>\n",
       "    </tr>\n",
       "    <tr>\n",
       "      <th>email_id</th>\n",
       "      <th></th>\n",
       "      <th></th>\n",
       "      <th></th>\n",
       "      <th></th>\n",
       "      <th></th>\n",
       "      <th></th>\n",
       "      <th></th>\n",
       "    </tr>\n",
       "  </thead>\n",
       "  <tbody>\n",
       "    <tr>\n",
       "      <th>966622</th>\n",
       "      <td>long_email</td>\n",
       "      <td>personalized</td>\n",
       "      <td>12</td>\n",
       "      <td>Sunday</td>\n",
       "      <td>UK</td>\n",
       "      <td>2</td>\n",
       "      <td>1.0</td>\n",
       "    </tr>\n",
       "    <tr>\n",
       "      <th>139620</th>\n",
       "      <td>short_email</td>\n",
       "      <td>personalized</td>\n",
       "      <td>9</td>\n",
       "      <td>Saturday</td>\n",
       "      <td>US</td>\n",
       "      <td>8</td>\n",
       "      <td>0.0</td>\n",
       "    </tr>\n",
       "    <tr>\n",
       "      <th>635573</th>\n",
       "      <td>short_email</td>\n",
       "      <td>personalized</td>\n",
       "      <td>3</td>\n",
       "      <td>Thursday</td>\n",
       "      <td>US</td>\n",
       "      <td>8</td>\n",
       "      <td>0.0</td>\n",
       "    </tr>\n",
       "    <tr>\n",
       "      <th>117471</th>\n",
       "      <td>long_email</td>\n",
       "      <td>personalized</td>\n",
       "      <td>5</td>\n",
       "      <td>Saturday</td>\n",
       "      <td>US</td>\n",
       "      <td>1</td>\n",
       "      <td>0.0</td>\n",
       "    </tr>\n",
       "    <tr>\n",
       "      <th>364825</th>\n",
       "      <td>short_email</td>\n",
       "      <td>personalized</td>\n",
       "      <td>6</td>\n",
       "      <td>Friday</td>\n",
       "      <td>UK</td>\n",
       "      <td>3</td>\n",
       "      <td>0.0</td>\n",
       "    </tr>\n",
       "  </tbody>\n",
       "</table>\n",
       "</div>"
      ],
      "text/plain": [
       "           email_text email_version  hour   weekday user_country  \\\n",
       "email_id                                                           \n",
       "966622     long_email  personalized    12    Sunday           UK   \n",
       "139620    short_email  personalized     9  Saturday           US   \n",
       "635573    short_email  personalized     3  Thursday           US   \n",
       "117471     long_email  personalized     5  Saturday           US   \n",
       "364825    short_email  personalized     6    Friday           UK   \n",
       "\n",
       "          user_past_purchases  click  \n",
       "email_id                              \n",
       "966622                      2    1.0  \n",
       "139620                      8    0.0  \n",
       "635573                      8    0.0  \n",
       "117471                      1    0.0  \n",
       "364825                      3    0.0  "
      ]
     },
     "execution_count": 71,
     "metadata": {},
     "output_type": "execute_result"
    }
   ],
   "source": [
    "data.head()"
   ]
  },
  {
   "cell_type": "code",
   "execution_count": null,
   "metadata": {},
   "outputs": [],
   "source": []
  },
  {
   "cell_type": "code",
   "execution_count": null,
   "metadata": {},
   "outputs": [],
   "source": []
  },
  {
   "cell_type": "code",
   "execution_count": 51,
   "metadata": {},
   "outputs": [
    {
     "data": {
      "text/plain": [
       "0.0    0.8\n",
       "1.0    0.2\n",
       "Name: click, dtype: float64"
      ]
     },
     "execution_count": 51,
     "metadata": {},
     "output_type": "execute_result"
    }
   ],
   "source": [
    "data['click'].value_counts(normalize=True)"
   ]
  },
  {
   "cell_type": "code",
   "execution_count": null,
   "metadata": {},
   "outputs": [],
   "source": []
  },
  {
   "cell_type": "code",
   "execution_count": 41,
   "metadata": {},
   "outputs": [
    {
     "data": {
      "text/plain": [
       "short_email    5761\n",
       "long_email     4584\n",
       "Name: email_text, dtype: int64"
      ]
     },
     "execution_count": 41,
     "metadata": {},
     "output_type": "execute_result"
    }
   ],
   "source": [
    "data.email_text.value_counts()"
   ]
  },
  {
   "cell_type": "code",
   "execution_count": null,
   "metadata": {},
   "outputs": [],
   "source": []
  },
  {
   "cell_type": "code",
   "execution_count": 32,
   "metadata": {},
   "outputs": [
    {
     "data": {
      "text/plain": [
       "<seaborn.axisgrid.PairGrid at 0x112dcfa30>"
      ]
     },
     "execution_count": 32,
     "metadata": {},
     "output_type": "execute_result"
    },
    {
     "data": {
      "image/png": "[encoded data removed]",
      "text/plain": [
       "<Figure size 720x720 with 20 Axes>"
      ]
     },
     "metadata": {
      "needs_background": "light"
     },
     "output_type": "display_data"
    }
   ],
   "source": [
    "sns.pairplot(df)"
   ]
  },
  {
   "cell_type": "code",
   "execution_count": null,
   "metadata": {},
   "outputs": [],
   "source": []
  },
  {
   "cell_type": "code",
   "execution_count": 18,
   "metadata": {},
   "outputs": [
    {
     "data": {
      "text/html": [
       "<div>\n",
       "<style scoped>\n",
       "    .dataframe tbody tr th:only-of-type {\n",
       "        vertical-align: middle;\n",
       "    }\n",
       "\n",
       "    .dataframe tbody tr th {\n",
       "        vertical-align: top;\n",
       "    }\n",
       "\n",
       "    .dataframe thead th {\n",
       "        text-align: right;\n",
       "    }\n",
       "</style>\n",
       "<table border=\"1\" class=\"dataframe\">\n",
       "  <thead>\n",
       "    <tr style=\"text-align: right;\">\n",
       "      <th></th>\n",
       "      <th>email_text</th>\n",
       "      <th>email_version</th>\n",
       "      <th>hour</th>\n",
       "      <th>weekday</th>\n",
       "      <th>user_country</th>\n",
       "      <th>user_past_purchases</th>\n",
       "      <th>open</th>\n",
       "      <th>click</th>\n",
       "    </tr>\n",
       "    <tr>\n",
       "      <th>email_id</th>\n",
       "      <th></th>\n",
       "      <th></th>\n",
       "      <th></th>\n",
       "      <th></th>\n",
       "      <th></th>\n",
       "      <th></th>\n",
       "      <th></th>\n",
       "      <th></th>\n",
       "    </tr>\n",
       "  </thead>\n",
       "  <tbody>\n",
       "    <tr>\n",
       "      <th>85120</th>\n",
       "      <td>short_email</td>\n",
       "      <td>personalized</td>\n",
       "      <td>2</td>\n",
       "      <td>Sunday</td>\n",
       "      <td>US</td>\n",
       "      <td>5</td>\n",
       "      <td>0.0</td>\n",
       "      <td>0.0</td>\n",
       "    </tr>\n",
       "    <tr>\n",
       "      <th>966622</th>\n",
       "      <td>long_email</td>\n",
       "      <td>personalized</td>\n",
       "      <td>12</td>\n",
       "      <td>Sunday</td>\n",
       "      <td>UK</td>\n",
       "      <td>2</td>\n",
       "      <td>1.0</td>\n",
       "      <td>1.0</td>\n",
       "    </tr>\n",
       "    <tr>\n",
       "      <th>777221</th>\n",
       "      <td>long_email</td>\n",
       "      <td>personalized</td>\n",
       "      <td>11</td>\n",
       "      <td>Wednesday</td>\n",
       "      <td>US</td>\n",
       "      <td>2</td>\n",
       "      <td>0.0</td>\n",
       "      <td>0.0</td>\n",
       "    </tr>\n",
       "    <tr>\n",
       "      <th>493711</th>\n",
       "      <td>short_email</td>\n",
       "      <td>generic</td>\n",
       "      <td>6</td>\n",
       "      <td>Monday</td>\n",
       "      <td>UK</td>\n",
       "      <td>1</td>\n",
       "      <td>0.0</td>\n",
       "      <td>0.0</td>\n",
       "    </tr>\n",
       "    <tr>\n",
       "      <th>106887</th>\n",
       "      <td>long_email</td>\n",
       "      <td>generic</td>\n",
       "      <td>14</td>\n",
       "      <td>Monday</td>\n",
       "      <td>US</td>\n",
       "      <td>6</td>\n",
       "      <td>0.0</td>\n",
       "      <td>0.0</td>\n",
       "    </tr>\n",
       "  </tbody>\n",
       "</table>\n",
       "</div>"
      ],
      "text/plain": [
       "           email_text email_version  hour    weekday user_country  \\\n",
       "email_id                                                            \n",
       "85120     short_email  personalized     2     Sunday           US   \n",
       "966622     long_email  personalized    12     Sunday           UK   \n",
       "777221     long_email  personalized    11  Wednesday           US   \n",
       "493711    short_email       generic     6     Monday           UK   \n",
       "106887     long_email       generic    14     Monday           US   \n",
       "\n",
       "          user_past_purchases  open  click  \n",
       "email_id                                    \n",
       "85120                       5   0.0    0.0  \n",
       "966622                      2   1.0    1.0  \n",
       "777221                      2   0.0    0.0  \n",
       "493711                      1   0.0    0.0  \n",
       "106887                      6   0.0    0.0  "
      ]
     },
     "execution_count": 18,
     "metadata": {},
     "output_type": "execute_result"
    }
   ],
   "source": [
    "df.head()"
   ]
  },
  {
   "cell_type": "code",
   "execution_count": 19,
   "metadata": {},
   "outputs": [
    {
     "data": {
      "text/plain": [
       "long_email     50276\n",
       "short_email    49724\n",
       "Name: email_text, dtype: int64"
      ]
     },
     "execution_count": 19,
     "metadata": {},
     "output_type": "execute_result"
    }
   ],
   "source": [
    "df.email_text.value_counts()"
   ]
  },
  {
   "cell_type": "code",
   "execution_count": 20,
   "metadata": {},
   "outputs": [
    {
     "data": {
      "text/plain": [
       "generic         50209\n",
       "personalized    49791\n",
       "Name: email_version, dtype: int64"
      ]
     },
     "execution_count": 20,
     "metadata": {},
     "output_type": "execute_result"
    }
   ],
   "source": [
    "df.email_version.value_counts()"
   ]
  },
  {
   "cell_type": "code",
   "execution_count": 30,
   "metadata": {},
   "outputs": [
    {
     "data": {
      "text/plain": [
       "1     2703\n",
       "2     3676\n",
       "3     4610\n",
       "4     5622\n",
       "5     6551\n",
       "6     7465\n",
       "7     8204\n",
       "8     8398\n",
       "9     8529\n",
       "10    8180\n",
       "11    7483\n",
       "12    6508\n",
       "13    5581\n",
       "14    4580\n",
       "15    3493\n",
       "16    2759\n",
       "17    1893\n",
       "18    1421\n",
       "19     905\n",
       "20     656\n",
       "21     365\n",
       "22     204\n",
       "23     145\n",
       "24      69\n",
       "Name: hour, dtype: int64"
      ]
     },
     "execution_count": 30,
     "metadata": {},
     "output_type": "execute_result"
    }
   ],
   "source": [
    "df.hour.value_counts().sort_index()"
   ]
  },
  {
   "cell_type": "code",
   "execution_count": 26,
   "metadata": {},
   "outputs": [
    {
     "data": {
      "text/plain": [
       "Saturday     14569\n",
       "Sunday       14387\n",
       "Monday       14363\n",
       "Thursday     14277\n",
       "Friday       14177\n",
       "Tuesday      14143\n",
       "Wednesday    14084\n",
       "Name: weekday, dtype: int64"
      ]
     },
     "execution_count": 26,
     "metadata": {},
     "output_type": "execute_result"
    }
   ],
   "source": [
    "df.weekday.value_counts()"
   ]
  },
  {
   "cell_type": "code",
   "execution_count": 27,
   "metadata": {},
   "outputs": [
    {
     "data": {
      "text/plain": [
       "US    60099\n",
       "UK    19939\n",
       "FR     9995\n",
       "ES     9967\n",
       "Name: user_country, dtype: int64"
      ]
     },
     "execution_count": 27,
     "metadata": {},
     "output_type": "execute_result"
    }
   ],
   "source": [
    "df.user_country.value_counts()"
   ]
  },
  {
   "cell_type": "code",
   "execution_count": 28,
   "metadata": {},
   "outputs": [
    {
     "data": {
      "text/plain": [
       "0     13877\n",
       "1     13751\n",
       "2     13036\n",
       "3     12077\n",
       "4     10743\n",
       "5      9042\n",
       "6      7518\n",
       "7      6051\n",
       "8      4393\n",
       "9      3296\n",
       "10     2363\n",
       "11     1553\n",
       "12      944\n",
       "13      578\n",
       "14      362\n",
       "15      188\n",
       "16      102\n",
       "17       60\n",
       "18       35\n",
       "19       15\n",
       "20       11\n",
       "21        4\n",
       "22        1\n",
       "Name: user_past_purchases, dtype: int64"
      ]
     },
     "execution_count": 28,
     "metadata": {},
     "output_type": "execute_result"
    }
   ],
   "source": [
    "# group them\n",
    "df.user_past_purchases.value_counts()"
   ]
  },
  {
   "cell_type": "code",
   "execution_count": 31,
   "metadata": {},
   "outputs": [
    {
     "name": "stdout",
     "output_type": "stream",
     "text": [
      "<class 'pandas.core.frame.DataFrame'>\n",
      "Int64Index: 100000 entries, 85120 to 348333\n",
      "Data columns (total 8 columns):\n",
      " #   Column               Non-Null Count   Dtype  \n",
      "---  ------               --------------   -----  \n",
      " 0   email_text           100000 non-null  object \n",
      " 1   email_version        100000 non-null  object \n",
      " 2   hour                 100000 non-null  int64  \n",
      " 3   weekday              100000 non-null  object \n",
      " 4   user_country         100000 non-null  object \n",
      " 5   user_past_purchases  100000 non-null  int64  \n",
      " 6   open                 100000 non-null  float64\n",
      " 7   click                100000 non-null  float64\n",
      "dtypes: float64(2), int64(2), object(4)\n",
      "memory usage: 6.9+ MB\n"
     ]
    }
   ],
   "source": [
    "df.info()"
   ]
  },
  {
   "cell_type": "code",
   "execution_count": null,
   "metadata": {},
   "outputs": [],
   "source": [
    "# turn object to category\n",
    "LABEL = ['obj_col_1', 'obj_col_2', 'obj_col_3']\n",
    "categorized_label = lambda x: x.astype('category')\n",
    "df[LABEL] = df[LABEL].apply(categorized_label, axis=0)"
   ]
  },
  {
   "cell_type": "code",
   "execution_count": null,
   "metadata": {},
   "outputs": [],
   "source": []
  },
  {
   "cell_type": "code",
   "execution_count": null,
   "metadata": {},
   "outputs": [],
   "source": []
  },
  {
   "cell_type": "code",
   "execution_count": null,
   "metadata": {},
   "outputs": [],
   "source": []
  },
  {
   "cell_type": "code",
   "execution_count": null,
   "metadata": {},
   "outputs": [],
   "source": []
  },
  {
   "cell_type": "code",
   "execution_count": null,
   "metadata": {},
   "outputs": [],
   "source": []
  },
  {
   "cell_type": "code",
   "execution_count": null,
   "metadata": {},
   "outputs": [],
   "source": []
  },
  {
   "cell_type": "code",
   "execution_count": null,
   "metadata": {},
   "outputs": [],
   "source": []
  },
  {
   "cell_type": "code",
   "execution_count": null,
   "metadata": {},
   "outputs": [],
   "source": []
  },
  {
   "cell_type": "code",
   "execution_count": null,
   "metadata": {},
   "outputs": [],
   "source": []
  },
  {
   "cell_type": "code",
   "execution_count": null,
   "metadata": {},
   "outputs": [],
   "source": []
  },
  {
   "cell_type": "code",
   "execution_count": null,
   "metadata": {},
   "outputs": [],
   "source": []
  }
 ],
 "metadata": {
  "kernelspec": {
   "display_name": "Python 3",
   "language": "python",
   "name": "python3"
  },
  "language_info": {
   "codemirror_mode": {
    "name": "ipython",
    "version": 3
   },
   "file_extension": ".py",
   "mimetype": "text/x-python",
   "name": "python",
   "nbconvert_exporter": "python",
   "pygments_lexer": "ipython3",
   "version": "3.8.2"
  }
 },
 "nbformat": 4,
 "nbformat_minor": 4
}
